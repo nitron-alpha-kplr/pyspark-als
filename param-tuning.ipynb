{
 "cells": [
  {
   "cell_type": "code",
   "execution_count": 2,
   "metadata": {},
   "outputs": [],
   "source": [
    "from pyspark.sql import SparkSession\n",
    "spark = SparkSession.builder.getOrCreate()\n",
    "spark.sparkContext.setCheckpointDir('checkpoint/') # https://stackoverflow.com/a/31484461"
   ]
  },
  {
   "cell_type": "code",
   "execution_count": 4,
   "metadata": {},
   "outputs": [],
   "source": [
    "from pyspark.ml.evaluation import RegressionEvaluator\n",
    "from pyspark.ml.recommendation import ALS\n",
    "from pyspark.sql.types import *\n",
    "from random import randint, uniform\n",
    "from multiprocessing.dummy import Pool, Process # dummy means threads, not real processes"
   ]
  },
  {
   "cell_type": "code",
   "execution_count": 21,
   "metadata": {},
   "outputs": [
    {
     "name": "stdout",
     "output_type": "stream",
     "text": [
      "+----+-----+------+\n",
      "|user|movie|rating|\n",
      "+----+-----+------+\n",
      "|   1|    1|   4.0|\n",
      "|   1|    3|   4.0|\n",
      "|   1|    6|   4.0|\n",
      "|   1|   47|   5.0|\n",
      "|   1|   50|   5.0|\n",
      "+----+-----+------+\n",
      "only showing top 5 rows\n",
      "\n"
     ]
    }
   ],
   "source": [
    "ratings_schema = StructType([\n",
    "    StructField('user'     , IntegerType()),\n",
    "    StructField('movie'    , IntegerType()),\n",
    "    StructField('rating'   , DoubleType() ),\n",
    "    StructField('timestamp', LongType()   ),\n",
    "])\n",
    "\n",
    "ratings = spark.read.csv('ml-latest-small/ratings.csv', header=True, schema=ratings_schema).select(['user' , 'movie', 'rating'])\n",
    "ratings.show(5)"
   ]
  },
  {
   "cell_type": "code",
   "execution_count": 22,
   "metadata": {},
   "outputs": [],
   "source": [
    "param_fixed = {\n",
    "    'userCol'          : 'user' , \n",
    "    'itemCol'          : 'movie' ,\n",
    "    'ratingCol'        : 'rating',\n",
    "    'coldStartStrategy': 'drop'  ,\n",
    "    'nonnegative'      : True    ,\n",
    "    'implicitPrefs'    : True    ,\n",
    "    'maxIter'          : 20      ,\n",
    "}"
   ]
  },
  {
   "cell_type": "code",
   "execution_count": 23,
   "metadata": {},
   "outputs": [],
   "source": [
    "evaluator = RegressionEvaluator(metricName='rmse', labelCol='rating', predictionCol='prediction')"
   ]
  },
  {
   "cell_type": "code",
   "execution_count": 24,
   "metadata": {},
   "outputs": [],
   "source": [
    "def evaluate_params(params, model_class, param_fixed, evaluator, ratings):\n",
    "    train, test = ratings.randomSplit([0.8, 0.2])\n",
    "    model = model_class(**params, **param_fixed)\n",
    "    predictions = model.fit(train).transform(test)\n",
    "    return evaluator.evaluate(predictions)\n",
    "\n",
    "def cv(params):\n",
    "    cv_folds = 3\n",
    "    func = lambda params: evaluate_params(\n",
    "        params      = params     ,\n",
    "        model_class = ALS        ,\n",
    "        param_fixed = param_fixed,\n",
    "        evaluator   = evaluator  ,\n",
    "        ratings     = ratings    ,\n",
    "    )\n",
    "    score = sum(Pool(processes=cv_folds).map(func=func, iterable=[params]*cv_folds)) / cv_folds\n",
    "    if score < best['score']:\n",
    "        best['params'] = params\n",
    "        best['score' ] = score\n",
    "        print('new best params found:', best)\n",
    "        with open('best_params.py', 'a') as f:\n",
    "            f.write('best = ' + str(best) + '\\n')\n",
    "    return (params, score)"
   ]
  },
  {
   "cell_type": "code",
   "execution_count": 25,
   "metadata": {},
   "outputs": [
    {
     "name": "stdout",
     "output_type": "stream",
     "text": [
      "new best params found: {'params': {'rank': 10, 'regParam': 0.366495035587214, 'alpha': 55.76604655981488}, 'score': 2.8554506870763032}\n"
     ]
    }
   ],
   "source": [
    "param_search_config = {\n",
    "    'rank'    : {'range': (4    , 12 ), 'dtype': int  },\n",
    "    'regParam': {'range': (0.001, 0.4), 'dtype': float},\n",
    "    'alpha'   : {'range': (1.0  , 60 ), 'dtype': float},\n",
    "}\n",
    "\n",
    "iterations = 3\n",
    "\n",
    "best = {'params': None, 'score': float('inf')}\n",
    "open('best_params.py', 'w').close()\n",
    "\n",
    "pool = []\n",
    "for i in range(iterations):\n",
    "    p = {}\n",
    "    for param, config in param_search_config.items():\n",
    "        if config['dtype'] is int:\n",
    "            rand_func = randint\n",
    "        if config['dtype'] is float:\n",
    "            rand_func = uniform\n",
    "        p[param] = rand_func(config['range'][0], config['range'][1])\n",
    "    thread = Process(target=cv, args=(p,))\n",
    "    pool.append(thread)\n",
    "    thread.start()\n",
    "    \n",
    "for thread in pool:\n",
    "    thread.join()"
   ]
  },
  {
   "cell_type": "markdown",
   "metadata": {},
   "source": [
    "# Prediction using best params"
   ]
  },
  {
   "cell_type": "code",
   "execution_count": 26,
   "metadata": {},
   "outputs": [],
   "source": [
    "best_params = best['params']\n",
    "\n",
    "train, test = ratings.randomSplit([0.8, 0.2])\n",
    "model = ALS(**best_params, **param_fixed)\n",
    "predictions = model.fit(train).transform(test)"
   ]
  },
  {
   "cell_type": "code",
   "execution_count": 27,
   "metadata": {},
   "outputs": [],
   "source": [
    "rating_pred = predictions.rdd.map(lambda x: x.prediction).collect()\n",
    "rating_true = predictions.rdd.map(lambda x: x.rating    ).collect()"
   ]
  },
  {
   "cell_type": "code",
   "execution_count": 28,
   "metadata": {},
   "outputs": [],
   "source": [
    "import matplotlib.pyplot as plt\n",
    "import numpy as np"
   ]
  },
  {
   "cell_type": "code",
   "execution_count": 29,
   "metadata": {},
   "outputs": [
    {
     "data": {
      "text/plain": [
       "<matplotlib.legend.Legend at 0x10fba4780>"
      ]
     },
     "execution_count": 29,
     "metadata": {},
     "output_type": "execute_result"
    },
    {
     "data": {
      "image/png": "[encoded data removed]",
      "text/plain": [
       "<Figure size 504x360 with 1 Axes>"
      ]
     },
     "metadata": {
      "needs_background": "light"
     },
     "output_type": "display_data"
    }
   ],
   "source": [
    "error = np.array(rating_pred) - np.array(rating_true)\n",
    "mean = error.mean()\n",
    "std  = error.std() \n",
    "\n",
    "plt.figure(figsize=(7, 5))\n",
    "plt.plot(error, label='error = rating_pred - rating_true')\n",
    "plt.axhline(mean      , color='r')\n",
    "plt.axhline(mean - std, color='r')\n",
    "plt.axhline(mean + std, color='r')\n",
    "plt.legend(loc=1)"
   ]
  },
  {
   "cell_type": "code",
   "execution_count": 30,
   "metadata": {},
   "outputs": [
    {
     "data": {
      "text/plain": [
       "<matplotlib.legend.Legend at 0x111121748>"
      ]
     },
     "execution_count": 30,
     "metadata": {},
     "output_type": "execute_result"
    },
    {
     "data": {
      "image/png": "[encoded data removed]",
      "text/plain": [
       "<Figure size 504x360 with 1 Axes>"
      ]
     },
     "metadata": {
      "needs_background": "light"
     },
     "output_type": "display_data"
    }
   ],
   "source": [
    "plt.figure(figsize=(7, 5))\n",
    "plt.hist(error, bins=50, label='error = rating_pred - rating_true')\n",
    "plt.axvline(x=mean, color='red')\n",
    "plt.legend(loc=1)"
   ]
  }
 ],
 "metadata": {
  "kernelspec": {
   "display_name": "Python 3",
   "language": "python",
   "name": "python3"
  },
  "language_info": {
   "codemirror_mode": {
    "name": "ipython",
    "version": 3
   },
   "file_extension": ".py",
   "mimetype": "text/x-python",
   "name": "python",
   "nbconvert_exporter": "python",
   "pygments_lexer": "ipython3",
   "version": "3.7.1"
  }
 },
 "nbformat": 4,
 "nbformat_minor": 2
}
