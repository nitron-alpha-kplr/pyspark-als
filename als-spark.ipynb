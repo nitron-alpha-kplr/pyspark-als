{
 "cells": [
  {
   "cell_type": "code",
   "execution_count": 1,
   "metadata": {},
   "outputs": [],
   "source": [
    "import os\n",
    "os.environ['PYSPARK_PYTHON']        = '/usr/local/bin/python3'\n",
    "os.environ['PYSPARK_DRIVER_PYTHON'] = '/usr/local/bin/python3'\n",
    "os.environ['JAVA_HOME']             = '/Library/Java/JavaVirtualMachines/jdk1.8.0_181.jdk/Contents/Home' # Java 10 is problematic\n",
    "from pyspark.sql import SparkSession\n",
    "spark = SparkSession.builder.getOrCreate()\n",
    "spark.sparkContext.setCheckpointDir('checkpoint/') # https://stackoverflow.com/a/31484461"
   ]
  },
  {
   "cell_type": "markdown",
   "metadata": {},
   "source": [
    "# explicit rating model"
   ]
  },
  {
   "cell_type": "code",
   "execution_count": null,
   "metadata": {},
   "outputs": [],
   "source": [
    "# !wget http://files.grouplens.org/datasets/movielens/ml-latest-small.zip\n",
    "!curl -O http://files.grouplens.org/datasets/movielens/ml-latest-small.zip\n",
    "!unzip ml-latest-small.zip"
   ]
  },
  {
   "cell_type": "code",
   "execution_count": 3,
   "metadata": {},
   "outputs": [
    {
     "name": "stdout",
     "output_type": "stream",
     "text": [
      "+----+-----+------+\n",
      "|user|movie|rating|\n",
      "+----+-----+------+\n",
      "|   1|    1|   4.0|\n",
      "|   1|    3|   4.0|\n",
      "|   1|    6|   4.0|\n",
      "|   1|   47|   5.0|\n",
      "|   1|   50|   5.0|\n",
      "|   1|   70|   3.0|\n",
      "|   1|  101|   5.0|\n",
      "|   1|  110|   4.0|\n",
      "|   1|  151|   5.0|\n",
      "|   1|  157|   5.0|\n",
      "|   1|  163|   5.0|\n",
      "|   1|  216|   5.0|\n",
      "|   1|  223|   3.0|\n",
      "|   1|  231|   5.0|\n",
      "|   1|  235|   4.0|\n",
      "|   1|  260|   5.0|\n",
      "|   1|  296|   3.0|\n",
      "|   1|  316|   3.0|\n",
      "|   1|  333|   5.0|\n",
      "|   1|  349|   4.0|\n",
      "+----+-----+------+\n",
      "only showing top 20 rows\n",
      "\n"
     ]
    }
   ],
   "source": [
    "from pyspark.ml.evaluation import RegressionEvaluator\n",
    "from pyspark.ml.recommendation import ALS\n",
    "from pyspark.ml.tuning import TrainValidationSplit, ParamGridBuilder\n",
    "from pyspark.sql.types import *\n",
    "\n",
    "\n",
    "schema = StructType([\n",
    "    StructField('user'     , IntegerType()),\n",
    "    StructField('movie'    , IntegerType()),\n",
    "    StructField('rating'   , DoubleType() ),\n",
    "    StructField('timestamp', LongType()   ),\n",
    "])\n",
    "\n",
    "ratings = spark.read.csv('ml-latest-small/ratings.csv', header=True, schema=schema).select(['user', 'movie', 'rating'])\n",
    "ratings = ratings.limit(500)\n",
    "ratings.show()"
   ]
  },
  {
   "cell_type": "code",
   "execution_count": 4,
   "metadata": {},
   "outputs": [],
   "source": [
    "train, test = ratings.randomSplit([0.8, 0.2])"
   ]
  },
  {
   "cell_type": "markdown",
   "metadata": {},
   "source": [
    "# Params Grid Search\n",
    "Cool way to do gridsearch is `TrainValidationSplit` and `ParamGridBuilder`  \n",
    "but it is broken for many models including `ALS`  \n",
    "it doesn't save all params to `bestModel`  \n",
    "therefore I use my own grid search implementation\n",
    "\n",
    "see [modeling - How to extract model hyper-parameters from spark.ml in PySpark? - Stack Overflow](https://stackoverflow.com/questions/36697304/how-to-extract-model-hyper-parameters-from-spark-ml-in-pyspark)"
   ]
  },
  {
   "cell_type": "code",
   "execution_count": 65,
   "metadata": {},
   "outputs": [],
   "source": [
    "param_grid = {\n",
    "    'rank'    : [12, 13, 14],\n",
    "    'maxIter' : [18, 19, 20],\n",
    "    'regParam': [0.17, 0.18],\n",
    "}"
   ]
  },
  {
   "cell_type": "code",
   "execution_count": 52,
   "metadata": {},
   "outputs": [
    {
     "data": {
      "text/plain": [
       "dict_keys(['rank', 'maxIter', 'regParam'])"
      ]
     },
     "execution_count": 52,
     "metadata": {},
     "output_type": "execute_result"
    }
   ],
   "source": [
    "param_grid.keys()"
   ]
  },
  {
   "cell_type": "code",
   "execution_count": 51,
   "metadata": {},
   "outputs": [
    {
     "name": "stdout",
     "output_type": "stream",
     "text": [
      "rank\n",
      "maxIter\n",
      "regParam\n"
     ]
    }
   ],
   "source": [
    "for param in param_grid.keys():\n",
    "    print(param)"
   ]
  },
  {
   "cell_type": "code",
   "execution_count": 41,
   "metadata": {},
   "outputs": [
    {
     "data": {
      "text/plain": [
       "dict_values([[12, 13, 14], [18, 19, 20], [0.17, 0.18]])"
      ]
     },
     "execution_count": 41,
     "metadata": {},
     "output_type": "execute_result"
    }
   ],
   "source": [
    "param_grid.values()"
   ]
  },
  {
   "cell_type": "code",
   "execution_count": 61,
   "metadata": {},
   "outputs": [],
   "source": [
    "pks = ('rank', 'maxIter', 'regParam')\n",
    "pvs = (12, 18, 0.17)"
   ]
  },
  {
   "cell_type": "code",
   "execution_count": 62,
   "metadata": {},
   "outputs": [
    {
     "data": {
      "text/plain": [
       "{'rank': 12, 'maxIter': 18, 'regParam': 0.17}"
      ]
     },
     "execution_count": 62,
     "metadata": {},
     "output_type": "execute_result"
    }
   ],
   "source": [
    "dict(zip(pks, pvs))"
   ]
  },
  {
   "cell_type": "code",
   "execution_count": 70,
   "metadata": {},
   "outputs": [
    {
     "name": "stdout",
     "output_type": "stream",
     "text": [
      "{'rank': 12, 'maxIter': 18, 'regParam': 0.17, 'pf1': 0, 'pf2': 5}\n",
      "{'rank': 12, 'maxIter': 18, 'regParam': 0.18, 'pf1': 0, 'pf2': 5}\n",
      "{'rank': 12, 'maxIter': 19, 'regParam': 0.17, 'pf1': 0, 'pf2': 5}\n",
      "{'rank': 12, 'maxIter': 19, 'regParam': 0.18, 'pf1': 0, 'pf2': 5}\n",
      "{'rank': 12, 'maxIter': 20, 'regParam': 0.17, 'pf1': 0, 'pf2': 5}\n",
      "{'rank': 12, 'maxIter': 20, 'regParam': 0.18, 'pf1': 0, 'pf2': 5}\n",
      "{'rank': 13, 'maxIter': 18, 'regParam': 0.17, 'pf1': 0, 'pf2': 5}\n",
      "{'rank': 13, 'maxIter': 18, 'regParam': 0.18, 'pf1': 0, 'pf2': 5}\n",
      "{'rank': 13, 'maxIter': 19, 'regParam': 0.17, 'pf1': 0, 'pf2': 5}\n",
      "{'rank': 13, 'maxIter': 19, 'regParam': 0.18, 'pf1': 0, 'pf2': 5}\n",
      "{'rank': 13, 'maxIter': 20, 'regParam': 0.17, 'pf1': 0, 'pf2': 5}\n",
      "{'rank': 13, 'maxIter': 20, 'regParam': 0.18, 'pf1': 0, 'pf2': 5}\n",
      "{'rank': 14, 'maxIter': 18, 'regParam': 0.17, 'pf1': 0, 'pf2': 5}\n",
      "{'rank': 14, 'maxIter': 18, 'regParam': 0.18, 'pf1': 0, 'pf2': 5}\n",
      "{'rank': 14, 'maxIter': 19, 'regParam': 0.17, 'pf1': 0, 'pf2': 5}\n",
      "{'rank': 14, 'maxIter': 19, 'regParam': 0.18, 'pf1': 0, 'pf2': 5}\n",
      "{'rank': 14, 'maxIter': 20, 'regParam': 0.17, 'pf1': 0, 'pf2': 5}\n",
      "{'rank': 14, 'maxIter': 20, 'regParam': 0.18, 'pf1': 0, 'pf2': 5}\n"
     ]
    }
   ],
   "source": [
    "pf = {'pf1': 0, 'pf2': 5}\n",
    "\n",
    "\n"
   ]
  },
  {
   "cell_type": "code",
   "execution_count": 30,
   "metadata": {},
   "outputs": [],
   "source": [
    "from itertools import product"
   ]
  },
  {
   "cell_type": "code",
   "execution_count": 31,
   "metadata": {},
   "outputs": [],
   "source": [
    "product??"
   ]
  },
  {
   "cell_type": "code",
   "execution_count": null,
   "metadata": {},
   "outputs": [],
   "source": [
    "als = ALS(rank=12, maxIter=15, regParam=0.17, userCol='user', itemCol='movie', ratingCol='rating', coldStartStrategy='drop', nonnegative=True)\n",
    "\n",
    "\n"
   ]
  },
  {
   "cell_type": "code",
   "execution_count": 26,
   "metadata": {},
   "outputs": [],
   "source": [
    "def m(**kwargs):\n",
    "    print(kwargs)"
   ]
  },
  {
   "cell_type": "code",
   "execution_count": 27,
   "metadata": {},
   "outputs": [
    {
     "name": "stdout",
     "output_type": "stream",
     "text": [
      "{'z': 1, 'r': 4, 'f': 0, 'g': 5}\n"
     ]
    }
   ],
   "source": [
    "pf = {'f': 0, 'g': 5}\n",
    "m(z=1, r=4, **pf)"
   ]
  },
  {
   "cell_type": "code",
   "execution_count": 22,
   "metadata": {},
   "outputs": [
    {
     "name": "stdout",
     "output_type": "stream",
     "text": [
      "ALS_4d25b8f746262162414f__rank [12, 13, 14]\n",
      "ALS_4d25b8f746262162414f__maxIter [18, 19, 20]\n",
      "ALS_4d25b8f746262162414f__regParam [0.17, 0.18, 0.19]\n"
     ]
    }
   ],
   "source": [
    "for param, vals in params.items():\n",
    "    print(param, vals)"
   ]
  },
  {
   "cell_type": "markdown",
   "metadata": {},
   "source": [
    "# todo error histogram"
   ]
  },
  {
   "cell_type": "code",
   "execution_count": 81,
   "metadata": {},
   "outputs": [],
   "source": []
  },
  {
   "cell_type": "code",
   "execution_count": 87,
   "metadata": {},
   "outputs": [
    {
     "data": {
      "text/plain": [
       "18"
      ]
     },
     "execution_count": 87,
     "metadata": {},
     "output_type": "execute_result"
    }
   ],
   "source": [
    "reduce(mul, map(len, param_grid.values()))"
   ]
  },
  {
   "cell_type": "code",
   "execution_count": 78,
   "metadata": {},
   "outputs": [
    {
     "data": {
      "text/plain": [
       "18"
      ]
     },
     "execution_count": 78,
     "metadata": {},
     "output_type": "execute_result"
    }
   ],
   "source": [
    "len(list(product(*param_grid.values())))"
   ]
  },
  {
   "cell_type": "code",
   "execution_count": 75,
   "metadata": {},
   "outputs": [],
   "source": [
    "from itertools import product\n",
    "from functools import reduce\n",
    "from operator import mul\n",
    "\n",
    "def grid_search(model_class, param_grid, param_fixed, evaluator, train, test):\n",
    "    '''todo: multithreading'''\n",
    "    n_combs = reduce(mul, map(len, param_grid.values()))\n",
    "    best_score = float('inf')\n",
    "    best_params = None\n",
    "    for i, param_comb in enumerate(product(*param_grid.values())):\n",
    "        params = dict(zip(param_grid.keys(), param_comb))\n",
    "        print('params', params)\n",
    "        model = model_class(**params, **param_fixed)\n",
    "        predictions = model.fit(train).transform(test)\n",
    "        score = evaluator.evaluate(predictions)\n",
    "        print('score', score)\n",
    "        if score < best_score:\n",
    "            best_score = score\n",
    "            best_params = params\n",
    "            print('new best params found')\n",
    "        print('progress:', i + 1, '/', n_combs)\n",
    "    return best_params"
   ]
  },
  {
   "cell_type": "code",
   "execution_count": 99,
   "metadata": {},
   "outputs": [],
   "source": [
    "param_fixed = {\n",
    "    'userCol'          : 'user', \n",
    "    'itemCol'          : 'movie', \n",
    "    'ratingCol'        : 'rating', \n",
    "    'coldStartStrategy': 'drop', \n",
    "    'nonnegative'      : True,\n",
    "}\n",
    "\n",
    "param_grid = {\n",
    "    'rank'    : [12, 13, 14],\n",
    "    'maxIter' : [18, 19, 20],\n",
    "    'regParam': [0.17, 0.18],\n",
    "}\n",
    "\n",
    "pgrid = [\n",
    "    dict(zip(param_grid.keys(), param_comb))\n",
    "    for param_comb in product(*param_grid.values())\n",
    "]"
   ]
  },
  {
   "cell_type": "code",
   "execution_count": null,
   "metadata": {},
   "outputs": [],
   "source": [
    "from multiprocessing.dummy import Pool # dummy means threads, not real processes\n",
    "\n",
    "def evaluate_params(model_class, params, param_fixed, evaluator, train, test):\n",
    "    model = model_class(**params, **param_fixed)\n",
    "    predictions = model.fit(train).transform(test)\n",
    "    score = evaluator.evaluate(predictions)\n",
    "    return (params, score)\n",
    "\n",
    "\n",
    "n_combs = reduce(mul, map(len, param_grid.values()))\n",
    "\n",
    "pool = Pool(processes=n_combs)\n",
    "async_result = pool.map_async(evaluate_params, pgrid)\n",
    "\n",
    "z = async_result.get()\n",
    "z"
   ]
  },
  {
   "cell_type": "code",
   "execution_count": null,
   "metadata": {},
   "outputs": [],
   "source": [
    "evaluator = RegressionEvaluator(metricName='rmse', labelCol='rating', predictionCol='prediction')\n",
    "best_params = grid_search(ALS, param_grid, param_fixed, evaluator, train, test)"
   ]
  },
  {
   "cell_type": "code",
   "execution_count": 90,
   "metadata": {},
   "outputs": [
    {
     "name": "stderr",
     "output_type": "stream",
     "text": [
      "ERROR:py4j.java_gateway:An error occurred while trying to connect to the Java server (127.0.0.1:49824)\n",
      "Traceback (most recent call last):\n",
      "  File \"/usr/local/lib/python3.7/site-packages/py4j/java_gateway.py\", line 929, in _get_connection\n",
      "    connection = self.deque.pop()\n",
      "IndexError: pop from an empty deque\n",
      "\n",
      "During handling of the above exception, another exception occurred:\n",
      "\n",
      "Traceback (most recent call last):\n",
      "  File \"/usr/local/lib/python3.7/site-packages/py4j/java_gateway.py\", line 1067, in start\n",
      "    self.socket.connect((self.address, self.port))\n",
      "ConnectionRefusedError: [Errno 61] Connection refused\n"
     ]
    },
    {
     "ename": "Py4JNetworkError",
     "evalue": "An error occurred while trying to connect to the Java server (127.0.0.1:49824)",
     "output_type": "error",
     "traceback": [
      "\u001b[0;31m---------------------------------------------------------------------------\u001b[0m",
      "\u001b[0;31mIndexError\u001b[0m                                Traceback (most recent call last)",
      "\u001b[0;32m/usr/local/lib/python3.7/site-packages/py4j/java_gateway.py\u001b[0m in \u001b[0;36m_get_connection\u001b[0;34m(self)\u001b[0m\n\u001b[1;32m    928\u001b[0m         \u001b[0;32mtry\u001b[0m\u001b[0;34m:\u001b[0m\u001b[0;34m\u001b[0m\u001b[0;34m\u001b[0m\u001b[0m\n\u001b[0;32m--> 929\u001b[0;31m             \u001b[0mconnection\u001b[0m \u001b[0;34m=\u001b[0m \u001b[0mself\u001b[0m\u001b[0;34m.\u001b[0m\u001b[0mdeque\u001b[0m\u001b[0;34m.\u001b[0m\u001b[0mpop\u001b[0m\u001b[0;34m(\u001b[0m\u001b[0;34m)\u001b[0m\u001b[0;34m\u001b[0m\u001b[0;34m\u001b[0m\u001b[0m\n\u001b[0m\u001b[1;32m    930\u001b[0m         \u001b[0;32mexcept\u001b[0m \u001b[0mIndexError\u001b[0m\u001b[0;34m:\u001b[0m\u001b[0;34m\u001b[0m\u001b[0;34m\u001b[0m\u001b[0m\n",
      "\u001b[0;31mIndexError\u001b[0m: pop from an empty deque",
      "\nDuring handling of the above exception, another exception occurred:\n",
      "\u001b[0;31mConnectionRefusedError\u001b[0m                    Traceback (most recent call last)",
      "\u001b[0;32m/usr/local/lib/python3.7/site-packages/py4j/java_gateway.py\u001b[0m in \u001b[0;36mstart\u001b[0;34m(self)\u001b[0m\n\u001b[1;32m   1066\u001b[0m         \u001b[0;32mtry\u001b[0m\u001b[0;34m:\u001b[0m\u001b[0;34m\u001b[0m\u001b[0;34m\u001b[0m\u001b[0m\n\u001b[0;32m-> 1067\u001b[0;31m             \u001b[0mself\u001b[0m\u001b[0;34m.\u001b[0m\u001b[0msocket\u001b[0m\u001b[0;34m.\u001b[0m\u001b[0mconnect\u001b[0m\u001b[0;34m(\u001b[0m\u001b[0;34m(\u001b[0m\u001b[0mself\u001b[0m\u001b[0;34m.\u001b[0m\u001b[0maddress\u001b[0m\u001b[0;34m,\u001b[0m \u001b[0mself\u001b[0m\u001b[0;34m.\u001b[0m\u001b[0mport\u001b[0m\u001b[0;34m)\u001b[0m\u001b[0;34m)\u001b[0m\u001b[0;34m\u001b[0m\u001b[0;34m\u001b[0m\u001b[0m\n\u001b[0m\u001b[1;32m   1068\u001b[0m             \u001b[0mself\u001b[0m\u001b[0;34m.\u001b[0m\u001b[0mstream\u001b[0m \u001b[0;34m=\u001b[0m \u001b[0mself\u001b[0m\u001b[0;34m.\u001b[0m\u001b[0msocket\u001b[0m\u001b[0;34m.\u001b[0m\u001b[0mmakefile\u001b[0m\u001b[0;34m(\u001b[0m\u001b[0;34m\"rb\"\u001b[0m\u001b[0;34m)\u001b[0m\u001b[0;34m\u001b[0m\u001b[0;34m\u001b[0m\u001b[0m\n",
      "\u001b[0;31mConnectionRefusedError\u001b[0m: [Errno 61] Connection refused",
      "\nDuring handling of the above exception, another exception occurred:\n",
      "\u001b[0;31mPy4JNetworkError\u001b[0m                          Traceback (most recent call last)",
      "\u001b[0;32m<ipython-input-90-394b92eb0b5f>\u001b[0m in \u001b[0;36m<module>\u001b[0;34m()\u001b[0m\n\u001b[1;32m      1\u001b[0m \u001b[0mbest_params\u001b[0m \u001b[0;34m=\u001b[0m \u001b[0;34m{\u001b[0m\u001b[0;34m'rank'\u001b[0m\u001b[0;34m:\u001b[0m \u001b[0;36m14\u001b[0m\u001b[0;34m,\u001b[0m \u001b[0;34m'maxIter'\u001b[0m\u001b[0;34m:\u001b[0m \u001b[0;36m20\u001b[0m\u001b[0;34m,\u001b[0m \u001b[0;34m'regParam'\u001b[0m\u001b[0;34m:\u001b[0m \u001b[0;36m0.18\u001b[0m\u001b[0;34m}\u001b[0m\u001b[0;34m\u001b[0m\u001b[0;34m\u001b[0m\u001b[0m\n\u001b[0;32m----> 2\u001b[0;31m \u001b[0mals\u001b[0m \u001b[0;34m=\u001b[0m \u001b[0mALS\u001b[0m\u001b[0;34m(\u001b[0m\u001b[0;34m**\u001b[0m\u001b[0mbest_params\u001b[0m\u001b[0;34m,\u001b[0m \u001b[0;34m**\u001b[0m\u001b[0mparam_fixed\u001b[0m\u001b[0;34m)\u001b[0m\u001b[0;34m\u001b[0m\u001b[0;34m\u001b[0m\u001b[0m\n\u001b[0m",
      "\u001b[0;32m/usr/local/lib/python3.7/site-packages/pyspark/__init__.py\u001b[0m in \u001b[0;36mwrapper\u001b[0;34m(self, *args, **kwargs)\u001b[0m\n\u001b[1;32m    103\u001b[0m             \u001b[0;32mraise\u001b[0m \u001b[0mTypeError\u001b[0m\u001b[0;34m(\u001b[0m\u001b[0;34m\"Method %s forces keyword arguments.\"\u001b[0m \u001b[0;34m%\u001b[0m \u001b[0mfunc\u001b[0m\u001b[0;34m.\u001b[0m\u001b[0m__name__\u001b[0m\u001b[0;34m)\u001b[0m\u001b[0;34m\u001b[0m\u001b[0;34m\u001b[0m\u001b[0m\n\u001b[1;32m    104\u001b[0m         \u001b[0mself\u001b[0m\u001b[0;34m.\u001b[0m\u001b[0m_input_kwargs\u001b[0m \u001b[0;34m=\u001b[0m \u001b[0mkwargs\u001b[0m\u001b[0;34m\u001b[0m\u001b[0;34m\u001b[0m\u001b[0m\n\u001b[0;32m--> 105\u001b[0;31m         \u001b[0;32mreturn\u001b[0m \u001b[0mfunc\u001b[0m\u001b[0;34m(\u001b[0m\u001b[0mself\u001b[0m\u001b[0;34m,\u001b[0m \u001b[0;34m**\u001b[0m\u001b[0mkwargs\u001b[0m\u001b[0;34m)\u001b[0m\u001b[0;34m\u001b[0m\u001b[0;34m\u001b[0m\u001b[0m\n\u001b[0m\u001b[1;32m    106\u001b[0m     \u001b[0;32mreturn\u001b[0m \u001b[0mwrapper\u001b[0m\u001b[0;34m\u001b[0m\u001b[0;34m\u001b[0m\u001b[0m\n\u001b[1;32m    107\u001b[0m \u001b[0;34m\u001b[0m\u001b[0m\n",
      "\u001b[0;32m/usr/local/lib/python3.7/site-packages/pyspark/ml/recommendation.py\u001b[0m in \u001b[0;36m__init__\u001b[0;34m(self, rank, maxIter, regParam, numUserBlocks, numItemBlocks, implicitPrefs, alpha, userCol, itemCol, seed, ratingCol, nonnegative, checkpointInterval, intermediateStorageLevel, finalStorageLevel, coldStartStrategy)\u001b[0m\n\u001b[1;32m    163\u001b[0m         \"\"\"\n\u001b[1;32m    164\u001b[0m         \u001b[0msuper\u001b[0m\u001b[0;34m(\u001b[0m\u001b[0mALS\u001b[0m\u001b[0;34m,\u001b[0m \u001b[0mself\u001b[0m\u001b[0;34m)\u001b[0m\u001b[0;34m.\u001b[0m\u001b[0m__init__\u001b[0m\u001b[0;34m(\u001b[0m\u001b[0;34m)\u001b[0m\u001b[0;34m\u001b[0m\u001b[0;34m\u001b[0m\u001b[0m\n\u001b[0;32m--> 165\u001b[0;31m         \u001b[0mself\u001b[0m\u001b[0;34m.\u001b[0m\u001b[0m_java_obj\u001b[0m \u001b[0;34m=\u001b[0m \u001b[0mself\u001b[0m\u001b[0;34m.\u001b[0m\u001b[0m_new_java_obj\u001b[0m\u001b[0;34m(\u001b[0m\u001b[0;34m\"org.apache.spark.ml.recommendation.ALS\"\u001b[0m\u001b[0;34m,\u001b[0m \u001b[0mself\u001b[0m\u001b[0;34m.\u001b[0m\u001b[0muid\u001b[0m\u001b[0;34m)\u001b[0m\u001b[0;34m\u001b[0m\u001b[0;34m\u001b[0m\u001b[0m\n\u001b[0m\u001b[1;32m    166\u001b[0m         self._setDefault(rank=10, maxIter=10, regParam=0.1, numUserBlocks=10, numItemBlocks=10,\n\u001b[1;32m    167\u001b[0m                          \u001b[0mimplicitPrefs\u001b[0m\u001b[0;34m=\u001b[0m\u001b[0;32mFalse\u001b[0m\u001b[0;34m,\u001b[0m \u001b[0malpha\u001b[0m\u001b[0;34m=\u001b[0m\u001b[0;36m1.0\u001b[0m\u001b[0;34m,\u001b[0m \u001b[0muserCol\u001b[0m\u001b[0;34m=\u001b[0m\u001b[0;34m\"user\"\u001b[0m\u001b[0;34m,\u001b[0m \u001b[0mitemCol\u001b[0m\u001b[0;34m=\u001b[0m\u001b[0;34m\"item\"\u001b[0m\u001b[0;34m,\u001b[0m\u001b[0;34m\u001b[0m\u001b[0;34m\u001b[0m\u001b[0m\n",
      "\u001b[0;32m/usr/local/lib/python3.7/site-packages/pyspark/ml/wrapper.py\u001b[0m in \u001b[0;36m_new_java_obj\u001b[0;34m(java_class, *args)\u001b[0m\n\u001b[1;32m     59\u001b[0m         \u001b[0mjava_obj\u001b[0m \u001b[0;34m=\u001b[0m \u001b[0m_jvm\u001b[0m\u001b[0;34m(\u001b[0m\u001b[0;34m)\u001b[0m\u001b[0;34m\u001b[0m\u001b[0;34m\u001b[0m\u001b[0m\n\u001b[1;32m     60\u001b[0m         \u001b[0;32mfor\u001b[0m \u001b[0mname\u001b[0m \u001b[0;32min\u001b[0m \u001b[0mjava_class\u001b[0m\u001b[0;34m.\u001b[0m\u001b[0msplit\u001b[0m\u001b[0;34m(\u001b[0m\u001b[0;34m\".\"\u001b[0m\u001b[0;34m)\u001b[0m\u001b[0;34m:\u001b[0m\u001b[0;34m\u001b[0m\u001b[0;34m\u001b[0m\u001b[0m\n\u001b[0;32m---> 61\u001b[0;31m             \u001b[0mjava_obj\u001b[0m \u001b[0;34m=\u001b[0m \u001b[0mgetattr\u001b[0m\u001b[0;34m(\u001b[0m\u001b[0mjava_obj\u001b[0m\u001b[0;34m,\u001b[0m \u001b[0mname\u001b[0m\u001b[0;34m)\u001b[0m\u001b[0;34m\u001b[0m\u001b[0;34m\u001b[0m\u001b[0m\n\u001b[0m\u001b[1;32m     62\u001b[0m         \u001b[0mjava_args\u001b[0m \u001b[0;34m=\u001b[0m \u001b[0;34m[\u001b[0m\u001b[0m_py2java\u001b[0m\u001b[0;34m(\u001b[0m\u001b[0msc\u001b[0m\u001b[0;34m,\u001b[0m \u001b[0marg\u001b[0m\u001b[0;34m)\u001b[0m \u001b[0;32mfor\u001b[0m \u001b[0marg\u001b[0m \u001b[0;32min\u001b[0m \u001b[0margs\u001b[0m\u001b[0;34m]\u001b[0m\u001b[0;34m\u001b[0m\u001b[0;34m\u001b[0m\u001b[0m\n\u001b[1;32m     63\u001b[0m         \u001b[0;32mreturn\u001b[0m \u001b[0mjava_obj\u001b[0m\u001b[0;34m(\u001b[0m\u001b[0;34m*\u001b[0m\u001b[0mjava_args\u001b[0m\u001b[0;34m)\u001b[0m\u001b[0;34m\u001b[0m\u001b[0;34m\u001b[0m\u001b[0m\n",
      "\u001b[0;32m/usr/local/lib/python3.7/site-packages/py4j/java_gateway.py\u001b[0m in \u001b[0;36m__getattr__\u001b[0;34m(self, name)\u001b[0m\n\u001b[1;32m   1647\u001b[0m             \u001b[0mproto\u001b[0m\u001b[0;34m.\u001b[0m\u001b[0mREFLECTION_COMMAND_NAME\u001b[0m \u001b[0;34m+\u001b[0m\u001b[0;34m\u001b[0m\u001b[0;34m\u001b[0m\u001b[0m\n\u001b[1;32m   1648\u001b[0m             \u001b[0mproto\u001b[0m\u001b[0;34m.\u001b[0m\u001b[0mREFL_GET_UNKNOWN_SUB_COMMAND_NAME\u001b[0m \u001b[0;34m+\u001b[0m \u001b[0mname\u001b[0m \u001b[0;34m+\u001b[0m \u001b[0;34m\"\\n\"\u001b[0m \u001b[0;34m+\u001b[0m \u001b[0mself\u001b[0m\u001b[0;34m.\u001b[0m\u001b[0m_id\u001b[0m \u001b[0;34m+\u001b[0m\u001b[0;34m\u001b[0m\u001b[0;34m\u001b[0m\u001b[0m\n\u001b[0;32m-> 1649\u001b[0;31m             \"\\n\" + proto.END_COMMAND_PART)\n\u001b[0m\u001b[1;32m   1650\u001b[0m         \u001b[0;32mif\u001b[0m \u001b[0manswer\u001b[0m \u001b[0;34m==\u001b[0m \u001b[0mproto\u001b[0m\u001b[0;34m.\u001b[0m\u001b[0mSUCCESS_PACKAGE\u001b[0m\u001b[0;34m:\u001b[0m\u001b[0;34m\u001b[0m\u001b[0;34m\u001b[0m\u001b[0m\n\u001b[1;32m   1651\u001b[0m             \u001b[0;32mreturn\u001b[0m \u001b[0mJavaPackage\u001b[0m\u001b[0;34m(\u001b[0m\u001b[0mname\u001b[0m\u001b[0;34m,\u001b[0m \u001b[0mself\u001b[0m\u001b[0;34m.\u001b[0m\u001b[0m_gateway_client\u001b[0m\u001b[0;34m,\u001b[0m \u001b[0mjvm_id\u001b[0m\u001b[0;34m=\u001b[0m\u001b[0mself\u001b[0m\u001b[0;34m.\u001b[0m\u001b[0m_id\u001b[0m\u001b[0;34m)\u001b[0m\u001b[0;34m\u001b[0m\u001b[0;34m\u001b[0m\u001b[0m\n",
      "\u001b[0;32m/usr/local/lib/python3.7/site-packages/py4j/java_gateway.py\u001b[0m in \u001b[0;36msend_command\u001b[0;34m(self, command, retry, binary)\u001b[0m\n\u001b[1;32m    981\u001b[0m          \u001b[0;32mif\u001b[0m\u001b[0;31m \u001b[0m\u001b[0;31m`\u001b[0m\u001b[0mbinary\u001b[0m\u001b[0;31m`\u001b[0m \u001b[0;32mis\u001b[0m\u001b[0;31m \u001b[0m\u001b[0;31m`\u001b[0m\u001b[0;32mTrue\u001b[0m\u001b[0;31m`\u001b[0m\u001b[0;34m.\u001b[0m\u001b[0;34m\u001b[0m\u001b[0;34m\u001b[0m\u001b[0m\n\u001b[1;32m    982\u001b[0m         \"\"\"\n\u001b[0;32m--> 983\u001b[0;31m         \u001b[0mconnection\u001b[0m \u001b[0;34m=\u001b[0m \u001b[0mself\u001b[0m\u001b[0;34m.\u001b[0m\u001b[0m_get_connection\u001b[0m\u001b[0;34m(\u001b[0m\u001b[0;34m)\u001b[0m\u001b[0;34m\u001b[0m\u001b[0;34m\u001b[0m\u001b[0m\n\u001b[0m\u001b[1;32m    984\u001b[0m         \u001b[0;32mtry\u001b[0m\u001b[0;34m:\u001b[0m\u001b[0;34m\u001b[0m\u001b[0;34m\u001b[0m\u001b[0m\n\u001b[1;32m    985\u001b[0m             \u001b[0mresponse\u001b[0m \u001b[0;34m=\u001b[0m \u001b[0mconnection\u001b[0m\u001b[0;34m.\u001b[0m\u001b[0msend_command\u001b[0m\u001b[0;34m(\u001b[0m\u001b[0mcommand\u001b[0m\u001b[0;34m)\u001b[0m\u001b[0;34m\u001b[0m\u001b[0;34m\u001b[0m\u001b[0m\n",
      "\u001b[0;32m/usr/local/lib/python3.7/site-packages/py4j/java_gateway.py\u001b[0m in \u001b[0;36m_get_connection\u001b[0;34m(self)\u001b[0m\n\u001b[1;32m    929\u001b[0m             \u001b[0mconnection\u001b[0m \u001b[0;34m=\u001b[0m \u001b[0mself\u001b[0m\u001b[0;34m.\u001b[0m\u001b[0mdeque\u001b[0m\u001b[0;34m.\u001b[0m\u001b[0mpop\u001b[0m\u001b[0;34m(\u001b[0m\u001b[0;34m)\u001b[0m\u001b[0;34m\u001b[0m\u001b[0;34m\u001b[0m\u001b[0m\n\u001b[1;32m    930\u001b[0m         \u001b[0;32mexcept\u001b[0m \u001b[0mIndexError\u001b[0m\u001b[0;34m:\u001b[0m\u001b[0;34m\u001b[0m\u001b[0;34m\u001b[0m\u001b[0m\n\u001b[0;32m--> 931\u001b[0;31m             \u001b[0mconnection\u001b[0m \u001b[0;34m=\u001b[0m \u001b[0mself\u001b[0m\u001b[0;34m.\u001b[0m\u001b[0m_create_connection\u001b[0m\u001b[0;34m(\u001b[0m\u001b[0;34m)\u001b[0m\u001b[0;34m\u001b[0m\u001b[0;34m\u001b[0m\u001b[0m\n\u001b[0m\u001b[1;32m    932\u001b[0m         \u001b[0;32mreturn\u001b[0m \u001b[0mconnection\u001b[0m\u001b[0;34m\u001b[0m\u001b[0;34m\u001b[0m\u001b[0m\n\u001b[1;32m    933\u001b[0m \u001b[0;34m\u001b[0m\u001b[0m\n",
      "\u001b[0;32m/usr/local/lib/python3.7/site-packages/py4j/java_gateway.py\u001b[0m in \u001b[0;36m_create_connection\u001b[0;34m(self)\u001b[0m\n\u001b[1;32m    935\u001b[0m         connection = GatewayConnection(\n\u001b[1;32m    936\u001b[0m             self.gateway_parameters, self.gateway_property)\n\u001b[0;32m--> 937\u001b[0;31m         \u001b[0mconnection\u001b[0m\u001b[0;34m.\u001b[0m\u001b[0mstart\u001b[0m\u001b[0;34m(\u001b[0m\u001b[0;34m)\u001b[0m\u001b[0;34m\u001b[0m\u001b[0;34m\u001b[0m\u001b[0m\n\u001b[0m\u001b[1;32m    938\u001b[0m         \u001b[0;32mreturn\u001b[0m \u001b[0mconnection\u001b[0m\u001b[0;34m\u001b[0m\u001b[0;34m\u001b[0m\u001b[0m\n\u001b[1;32m    939\u001b[0m \u001b[0;34m\u001b[0m\u001b[0m\n",
      "\u001b[0;32m/usr/local/lib/python3.7/site-packages/py4j/java_gateway.py\u001b[0m in \u001b[0;36mstart\u001b[0;34m(self)\u001b[0m\n\u001b[1;32m   1077\u001b[0m                 \u001b[0;34m\"server ({0}:{1})\"\u001b[0m\u001b[0;34m.\u001b[0m\u001b[0mformat\u001b[0m\u001b[0;34m(\u001b[0m\u001b[0mself\u001b[0m\u001b[0;34m.\u001b[0m\u001b[0maddress\u001b[0m\u001b[0;34m,\u001b[0m \u001b[0mself\u001b[0m\u001b[0;34m.\u001b[0m\u001b[0mport\u001b[0m\u001b[0;34m)\u001b[0m\u001b[0;34m\u001b[0m\u001b[0;34m\u001b[0m\u001b[0m\n\u001b[1;32m   1078\u001b[0m             \u001b[0mlogger\u001b[0m\u001b[0;34m.\u001b[0m\u001b[0mexception\u001b[0m\u001b[0;34m(\u001b[0m\u001b[0mmsg\u001b[0m\u001b[0;34m)\u001b[0m\u001b[0;34m\u001b[0m\u001b[0;34m\u001b[0m\u001b[0m\n\u001b[0;32m-> 1079\u001b[0;31m             \u001b[0;32mraise\u001b[0m \u001b[0mPy4JNetworkError\u001b[0m\u001b[0;34m(\u001b[0m\u001b[0mmsg\u001b[0m\u001b[0;34m,\u001b[0m \u001b[0me\u001b[0m\u001b[0;34m)\u001b[0m\u001b[0;34m\u001b[0m\u001b[0;34m\u001b[0m\u001b[0m\n\u001b[0m\u001b[1;32m   1080\u001b[0m \u001b[0;34m\u001b[0m\u001b[0m\n\u001b[1;32m   1081\u001b[0m     \u001b[0;32mdef\u001b[0m \u001b[0m_authenticate_connection\u001b[0m\u001b[0;34m(\u001b[0m\u001b[0mself\u001b[0m\u001b[0;34m)\u001b[0m\u001b[0;34m:\u001b[0m\u001b[0;34m\u001b[0m\u001b[0;34m\u001b[0m\u001b[0m\n",
      "\u001b[0;31mPy4JNetworkError\u001b[0m: An error occurred while trying to connect to the Java server (127.0.0.1:49824)"
     ]
    }
   ],
   "source": [
    "best_params = {'rank': 14, 'maxIter': 20, 'regParam': 0.18}\n",
    "als = ALS(**best_params, **param_fixed)"
   ]
  },
  {
   "cell_type": "markdown",
   "metadata": {},
   "source": [
    "[learn all params](http://spark.apache.org/docs/2.2.0/api/python/pyspark.ml.html#module-pyspark.ml.recommendation)"
   ]
  },
  {
   "cell_type": "code",
   "execution_count": 5,
   "metadata": {},
   "outputs": [],
   "source": [
    "als = ALS(userCol='user', itemCol='movie', ratingCol='rating', coldStartStrategy='drop', nonnegative=True)\n",
    "\n",
    "param_grid = ParamGridBuilder()                \\\n",
    "    .addGrid(als.rank    , [12, 13, 14])       \\\n",
    "    .addGrid(als.maxIter , [18, 19, 20])       \\\n",
    "    .addGrid(als.regParam, [0.17, 0.18, 0.19]) \\\n",
    "    .build()\n",
    "\n",
    "evaluator = RegressionEvaluator(metricName='rmse', labelCol='rating', predictionCol='prediction')\n",
    "\n",
    "tvs = TrainValidationSplit(\n",
    "    estimator = als,\n",
    "    estimatorParamMaps = param_grid,\n",
    "    evaluator = evaluator\n",
    ")"
   ]
  },
  {
   "cell_type": "code",
   "execution_count": null,
   "metadata": {},
   "outputs": [],
   "source": [
    "best_model = tvs.fit(train).bestModel"
   ]
  },
  {
   "cell_type": "code",
   "execution_count": null,
   "metadata": {},
   "outputs": [],
   "source": [
    "print('best_model.rank'    , best_model.rank    )\n",
    "print('best_model.maxIter' , best_model.maxIter )\n",
    "print('best_model.regParam', best_model.regParam)"
   ]
  },
  {
   "cell_type": "code",
   "execution_count": null,
   "metadata": {},
   "outputs": [],
   "source": [
    "# model = tvs.fit(train)\n",
    "# best_model = model.bestModel"
   ]
  },
  {
   "cell_type": "code",
   "execution_count": 10,
   "metadata": {},
   "outputs": [],
   "source": [
    "predictions = best_model.transform(test)\n",
    "rmse = evaluator.evaluate(predictions)"
   ]
  },
  {
   "cell_type": "code",
   "execution_count": null,
   "metadata": {},
   "outputs": [],
   "source": [
    "print('rmse', rmse)\n",
    "print('best_model', best_model)"
   ]
  },
  {
   "cell_type": "code",
   "execution_count": null,
   "metadata": {},
   "outputs": [],
   "source": [
    "predictions.show()"
   ]
  },
  {
   "cell_type": "code",
   "execution_count": null,
   "metadata": {},
   "outputs": [],
   "source": [
    "# display(predictions.sort('user', 'rating')) # long running"
   ]
  },
  {
   "cell_type": "code",
   "execution_count": null,
   "metadata": {},
   "outputs": [],
   "source": [
    "# best_model.recommendForAllUsers(10).show() # Returns top numItems items recommended for each user, for all users."
   ]
  },
  {
   "cell_type": "code",
   "execution_count": null,
   "metadata": {},
   "outputs": [],
   "source": []
  },
  {
   "cell_type": "code",
   "execution_count": null,
   "metadata": {},
   "outputs": [],
   "source": []
  },
  {
   "cell_type": "code",
   "execution_count": null,
   "metadata": {},
   "outputs": [],
   "source": [
    "# TrainValidationSplit vs CrossValidator pyspark\n",
    "# https://spark.apache.org/docs/2.2.0/ml-tuning.html"
   ]
  },
  {
   "cell_type": "code",
   "execution_count": null,
   "metadata": {},
   "outputs": [],
   "source": []
  },
  {
   "cell_type": "code",
   "execution_count": null,
   "metadata": {},
   "outputs": [],
   "source": [
    "param_fixed = {\n",
    "    'userCol'          : 'user', \n",
    "    'itemCol'          : 'movie', \n",
    "    'ratingCol'        : 'rating', \n",
    "    'coldStartStrategy': 'drop', \n",
    "    'nonnegative'      : True,\n",
    "}\n",
    "\n",
    "param_grid = {\n",
    "    'rank'    : [12, 13, 14],\n",
    "    'maxIter' : [18, 19, 20],\n",
    "    'regParam': [0.17, 0.18],\n",
    "}\n",
    "\n",
    "pgrid = [\n",
    "    dict(zip(param_grid.keys(), param_comb))\n",
    "    for param_comb in product(*param_grid.values())\n",
    "]"
   ]
  },
  {
   "cell_type": "code",
   "execution_count": null,
   "metadata": {},
   "outputs": [],
   "source": [
    "def evaluate_params(params, model_class, param_fixed, evaluator, train, test):\n",
    "    model = model_class(**params, **param_fixed)\n",
    "    predictions = model.fit(train).transform(test)\n",
    "    score = evaluator.evaluate(predictions)\n",
    "    return (params, score)\n",
    "\n",
    "def evaluate_als(params):\n",
    "    return evaluate_params(\n",
    "        params      = params     ,\n",
    "        model_class = ALS        ,\n",
    "        param_fixed = param_fixed,\n",
    "        evaluator   = evaluator  ,\n",
    "        train       = train      ,\n",
    "        test        = test       ,\n",
    "    )\n",
    "\n",
    "evaluator = RegressionEvaluator(metricName='rmse', labelCol='rating', predictionCol='prediction')"
   ]
  },
  {
   "cell_type": "code",
   "execution_count": null,
   "metadata": {},
   "outputs": [],
   "source": [
    "from multiprocessing.dummy import Pool # dummy means threads, not real processes\n",
    "\n",
    "pool = Pool(processes=len(pgrid))\n",
    "z = pool.map(evaluate_als, pgrid)\n",
    "\n",
    "print(sorted(z, key = lambda x: x[1]))"
   ]
  },
  {
   "cell_type": "code",
   "execution_count": 105,
   "metadata": {},
   "outputs": [
    {
     "name": "stdout",
     "output_type": "stream",
     "text": [
      "({'rank': 13, 'maxIter': 20, 'regParam': 0.17}, 0.8566730359915185)\n",
      "({'rank': 13, 'maxIter': 19, 'regParam': 0.17}, 0.8567577889920407)\n",
      "({'rank': 13, 'maxIter': 18, 'regParam': 0.17}, 0.8568637417151008)\n",
      "({'rank': 12, 'maxIter': 20, 'regParam': 0.17}, 0.8569176957675673)\n",
      "({'rank': 12, 'maxIter': 19, 'regParam': 0.17}, 0.8569885172704061)\n",
      "({'rank': 12, 'maxIter': 18, 'regParam': 0.17}, 0.8570723816543611)\n",
      "({'rank': 14, 'maxIter': 20, 'regParam': 0.17}, 0.8583020230781222)\n",
      "({'rank': 14, 'maxIter': 19, 'regParam': 0.17}, 0.8584015331269317)\n",
      "({'rank': 13, 'maxIter': 20, 'regParam': 0.18}, 0.8585022356083378)\n",
      "({'rank': 14, 'maxIter': 18, 'regParam': 0.17}, 0.8585182962869441)\n",
      "({'rank': 13, 'maxIter': 19, 'regParam': 0.18}, 0.8585910701232548)\n",
      "({'rank': 13, 'maxIter': 18, 'regParam': 0.18}, 0.8586977968580285)\n",
      "({'rank': 12, 'maxIter': 20, 'regParam': 0.18}, 0.8587364482831222)\n",
      "({'rank': 12, 'maxIter': 19, 'regParam': 0.18}, 0.8588040055491347)\n",
      "({'rank': 12, 'maxIter': 18, 'regParam': 0.18}, 0.8588912012083475)\n",
      "({'rank': 14, 'maxIter': 20, 'regParam': 0.18}, 0.8599161370283532)\n",
      "({'rank': 14, 'maxIter': 19, 'regParam': 0.18}, 0.8600279568176458)\n",
      "({'rank': 14, 'maxIter': 18, 'regParam': 0.18}, 0.8601618416860164)\n"
     ]
    }
   ],
   "source": [
    "for i in sorted(z, key = lambda x: x[1]):\n",
    "    print(i)"
   ]
  },
  {
   "cell_type": "code",
   "execution_count": 113,
   "metadata": {},
   "outputs": [],
   "source": [
    "param_grid = {\n",
    "    'rank'    : range(4, 12),\n",
    "    'maxIter' : range(2, 20, 2),\n",
    "    'regParam': np.arange(0.1, 0.4, 0.1),\n",
    "}\n",
    "\n",
    "pgrid = [\n",
    "    dict(zip(param_grid.keys(), param_comb))\n",
    "    for param_comb in product(*param_grid.values())\n",
    "]\n",
    "\n",
    "# random search instead of grid search\n",
    "from random import shuffle\n",
    "shuffle(pgrid)\n",
    "pgrid = pgrid[:100]"
   ]
  },
  {
   "cell_type": "code",
   "execution_count": 114,
   "metadata": {},
   "outputs": [
    {
     "data": {
      "text/plain": [
       "[{'rank': 9, 'maxIter': 8, 'regParam': 0.2},\n",
       " {'rank': 7, 'maxIter': 14, 'regParam': 0.30000000000000004},\n",
       " {'rank': 5, 'maxIter': 8, 'regParam': 0.2},\n",
       " {'rank': 6, 'maxIter': 8, 'regParam': 0.2},\n",
       " {'rank': 6, 'maxIter': 16, 'regParam': 0.2},\n",
       " {'rank': 6, 'maxIter': 6, 'regParam': 0.4},\n",
       " {'rank': 6, 'maxIter': 18, 'regParam': 0.2},\n",
       " {'rank': 10, 'maxIter': 4, 'regParam': 0.30000000000000004},\n",
       " {'rank': 5, 'maxIter': 14, 'regParam': 0.1},\n",
       " {'rank': 11, 'maxIter': 14, 'regParam': 0.1},\n",
       " {'rank': 10, 'maxIter': 2, 'regParam': 0.30000000000000004},\n",
       " {'rank': 4, 'maxIter': 18, 'regParam': 0.2},\n",
       " {'rank': 10, 'maxIter': 2, 'regParam': 0.4},\n",
       " {'rank': 5, 'maxIter': 18, 'regParam': 0.4},\n",
       " {'rank': 11, 'maxIter': 14, 'regParam': 0.30000000000000004},\n",
       " {'rank': 7, 'maxIter': 16, 'regParam': 0.2},\n",
       " {'rank': 5, 'maxIter': 12, 'regParam': 0.1},\n",
       " {'rank': 5, 'maxIter': 4, 'regParam': 0.4},\n",
       " {'rank': 10, 'maxIter': 6, 'regParam': 0.4},\n",
       " {'rank': 9, 'maxIter': 4, 'regParam': 0.4},\n",
       " {'rank': 11, 'maxIter': 8, 'regParam': 0.30000000000000004},\n",
       " {'rank': 8, 'maxIter': 18, 'regParam': 0.2},\n",
       " {'rank': 10, 'maxIter': 18, 'regParam': 0.2},\n",
       " {'rank': 5, 'maxIter': 6, 'regParam': 0.2},\n",
       " {'rank': 10, 'maxIter': 12, 'regParam': 0.30000000000000004},\n",
       " {'rank': 8, 'maxIter': 2, 'regParam': 0.30000000000000004},\n",
       " {'rank': 11, 'maxIter': 12, 'regParam': 0.30000000000000004},\n",
       " {'rank': 8, 'maxIter': 6, 'regParam': 0.2},\n",
       " {'rank': 6, 'maxIter': 18, 'regParam': 0.1},\n",
       " {'rank': 10, 'maxIter': 4, 'regParam': 0.4},\n",
       " {'rank': 5, 'maxIter': 10, 'regParam': 0.30000000000000004},\n",
       " {'rank': 5, 'maxIter': 12, 'regParam': 0.30000000000000004},\n",
       " {'rank': 4, 'maxIter': 2, 'regParam': 0.1},\n",
       " {'rank': 9, 'maxIter': 16, 'regParam': 0.2},\n",
       " {'rank': 4, 'maxIter': 14, 'regParam': 0.2},\n",
       " {'rank': 9, 'maxIter': 16, 'regParam': 0.4},\n",
       " {'rank': 7, 'maxIter': 14, 'regParam': 0.1},\n",
       " {'rank': 6, 'maxIter': 8, 'regParam': 0.4},\n",
       " {'rank': 6, 'maxIter': 10, 'regParam': 0.1},\n",
       " {'rank': 6, 'maxIter': 4, 'regParam': 0.2},\n",
       " {'rank': 11, 'maxIter': 18, 'regParam': 0.1},\n",
       " {'rank': 4, 'maxIter': 12, 'regParam': 0.2},\n",
       " {'rank': 7, 'maxIter': 4, 'regParam': 0.30000000000000004},\n",
       " {'rank': 10, 'maxIter': 18, 'regParam': 0.30000000000000004},\n",
       " {'rank': 5, 'maxIter': 8, 'regParam': 0.1},\n",
       " {'rank': 9, 'maxIter': 4, 'regParam': 0.30000000000000004},\n",
       " {'rank': 11, 'maxIter': 14, 'regParam': 0.2},\n",
       " {'rank': 8, 'maxIter': 4, 'regParam': 0.1},\n",
       " {'rank': 4, 'maxIter': 4, 'regParam': 0.30000000000000004},\n",
       " {'rank': 10, 'maxIter': 12, 'regParam': 0.4},\n",
       " {'rank': 11, 'maxIter': 12, 'regParam': 0.2},\n",
       " {'rank': 9, 'maxIter': 8, 'regParam': 0.1},\n",
       " {'rank': 4, 'maxIter': 8, 'regParam': 0.2},\n",
       " {'rank': 11, 'maxIter': 4, 'regParam': 0.1},\n",
       " {'rank': 11, 'maxIter': 18, 'regParam': 0.30000000000000004},\n",
       " {'rank': 9, 'maxIter': 2, 'regParam': 0.30000000000000004},\n",
       " {'rank': 11, 'maxIter': 2, 'regParam': 0.30000000000000004},\n",
       " {'rank': 9, 'maxIter': 14, 'regParam': 0.4},\n",
       " {'rank': 10, 'maxIter': 18, 'regParam': 0.1},\n",
       " {'rank': 4, 'maxIter': 12, 'regParam': 0.4},\n",
       " {'rank': 10, 'maxIter': 16, 'regParam': 0.2},\n",
       " {'rank': 9, 'maxIter': 4, 'regParam': 0.2},\n",
       " {'rank': 5, 'maxIter': 10, 'regParam': 0.4},\n",
       " {'rank': 10, 'maxIter': 6, 'regParam': 0.2},\n",
       " {'rank': 9, 'maxIter': 18, 'regParam': 0.2},\n",
       " {'rank': 11, 'maxIter': 16, 'regParam': 0.1},\n",
       " {'rank': 6, 'maxIter': 14, 'regParam': 0.4},\n",
       " {'rank': 7, 'maxIter': 10, 'regParam': 0.1},\n",
       " {'rank': 6, 'maxIter': 2, 'regParam': 0.2},\n",
       " {'rank': 10, 'maxIter': 2, 'regParam': 0.2},\n",
       " {'rank': 4, 'maxIter': 10, 'regParam': 0.4},\n",
       " {'rank': 8, 'maxIter': 8, 'regParam': 0.4},\n",
       " {'rank': 8, 'maxIter': 8, 'regParam': 0.2},\n",
       " {'rank': 9, 'maxIter': 12, 'regParam': 0.2},\n",
       " {'rank': 6, 'maxIter': 16, 'regParam': 0.4},\n",
       " {'rank': 8, 'maxIter': 14, 'regParam': 0.4},\n",
       " {'rank': 9, 'maxIter': 4, 'regParam': 0.1},\n",
       " {'rank': 4, 'maxIter': 16, 'regParam': 0.2},\n",
       " {'rank': 6, 'maxIter': 12, 'regParam': 0.4},\n",
       " {'rank': 5, 'maxIter': 16, 'regParam': 0.1},\n",
       " {'rank': 10, 'maxIter': 18, 'regParam': 0.4},\n",
       " {'rank': 10, 'maxIter': 16, 'regParam': 0.4},\n",
       " {'rank': 6, 'maxIter': 4, 'regParam': 0.30000000000000004},\n",
       " {'rank': 9, 'maxIter': 6, 'regParam': 0.4},\n",
       " {'rank': 11, 'maxIter': 4, 'regParam': 0.30000000000000004},\n",
       " {'rank': 6, 'maxIter': 12, 'regParam': 0.1},\n",
       " {'rank': 7, 'maxIter': 12, 'regParam': 0.2},\n",
       " {'rank': 10, 'maxIter': 14, 'regParam': 0.4},\n",
       " {'rank': 7, 'maxIter': 8, 'regParam': 0.1},\n",
       " {'rank': 7, 'maxIter': 10, 'regParam': 0.2},\n",
       " {'rank': 4, 'maxIter': 16, 'regParam': 0.4},\n",
       " {'rank': 4, 'maxIter': 6, 'regParam': 0.30000000000000004},\n",
       " {'rank': 8, 'maxIter': 16, 'regParam': 0.2},\n",
       " {'rank': 7, 'maxIter': 8, 'regParam': 0.2},\n",
       " {'rank': 5, 'maxIter': 2, 'regParam': 0.2},\n",
       " {'rank': 5, 'maxIter': 12, 'regParam': 0.2},\n",
       " {'rank': 8, 'maxIter': 14, 'regParam': 0.2},\n",
       " {'rank': 7, 'maxIter': 8, 'regParam': 0.4},\n",
       " {'rank': 8, 'maxIter': 10, 'regParam': 0.30000000000000004},\n",
       " {'rank': 10, 'maxIter': 6, 'regParam': 0.30000000000000004}]"
      ]
     },
     "execution_count": 114,
     "metadata": {},
     "output_type": "execute_result"
    }
   ],
   "source": [
    "pgrid"
   ]
  },
  {
   "cell_type": "code",
   "execution_count": null,
   "metadata": {},
   "outputs": [],
   "source": []
  }
 ],
 "metadata": {
  "kernelspec": {
   "display_name": "Python 3",
   "language": "python",
   "name": "python3"
  },
  "language_info": {
   "codemirror_mode": {
    "name": "ipython",
    "version": 3
   },
   "file_extension": ".py",
   "mimetype": "text/x-python",
   "name": "python",
   "nbconvert_exporter": "python",
   "pygments_lexer": "ipython3",
   "version": "3.7.1"
  }
 },
 "nbformat": 4,
 "nbformat_minor": 2
}
