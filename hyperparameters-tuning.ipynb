{
 "cells": [
  {
   "cell_type": "code",
   "execution_count": 1,
   "metadata": {},
   "outputs": [],
   "source": [
    "from pyspark.sql import SparkSession\n",
    "spark = SparkSession.builder.getOrCreate()\n",
    "spark.sparkContext.setCheckpointDir('checkpoint/') # https://stackoverflow.com/a/31484461"
   ]
  },
  {
   "cell_type": "code",
   "execution_count": 58,
   "metadata": {},
   "outputs": [],
   "source": [
    "from pyspark.ml.evaluation import RegressionEvaluator\n",
    "from pyspark.ml.recommendation import ALS\n",
    "from pyspark.ml.tuning import TrainValidationSplit, ParamGridBuilder\n",
    "from pyspark.sql.types import *\n",
    "from random import randint, uniform\n",
    "from multiprocessing.dummy import Pool # dummy means threads, not real processes"
   ]
  },
  {
   "cell_type": "code",
   "execution_count": 43,
   "metadata": {},
   "outputs": [
    {
     "name": "stdout",
     "output_type": "stream",
     "text": [
      "+----+-----+------+\n",
      "|user|movie|rating|\n",
      "+----+-----+------+\n",
      "|   1|    1|   4.0|\n",
      "|   1|    3|   4.0|\n",
      "|   1|    6|   4.0|\n",
      "|   1|   47|   5.0|\n",
      "|   1|   50|   5.0|\n",
      "+----+-----+------+\n",
      "only showing top 5 rows\n",
      "\n"
     ]
    }
   ],
   "source": [
    "ratings_schema = StructType([\n",
    "    StructField('user'     , IntegerType()),\n",
    "    StructField('movie'    , IntegerType()),\n",
    "    StructField('rating'   , DoubleType() ),\n",
    "    StructField('timestamp', LongType()   ),\n",
    "])\n",
    "\n",
    "ratings = spark.read.csv('ml-latest-small/ratings.csv', header=True, schema=ratings_schema).select(['user' , 'movie', 'rating'])\n",
    "ratings.show(5)"
   ]
  },
  {
   "cell_type": "markdown",
   "metadata": {},
   "source": [
    "# Random Search for Best Params"
   ]
  },
  {
   "cell_type": "code",
   "execution_count": 89,
   "metadata": {
    "scrolled": false
   },
   "outputs": [
    {
     "data": {
      "text/plain": [
       "[{'rank': 11, 'regParam': 0.01466859469661283, 'alpha': 34.060979731990194},\n",
       " {'rank': 12, 'regParam': 0.16493165591162007, 'alpha': 54.33731362066938},\n",
       " {'rank': 11, 'regParam': 0.016232507674970403, 'alpha': 53.21284559409451}]"
      ]
     },
     "execution_count": 89,
     "metadata": {},
     "output_type": "execute_result"
    }
   ],
   "source": [
    "param_search_config = {\n",
    "    'rank'    : {'range': (4    , 12 ), 'dtype': int  },\n",
    "    'regParam': {'range': (0.001, 0.4), 'dtype': float},\n",
    "    'alpha'   : {'range': (1.0  , 60 ), 'dtype': float},\n",
    "}\n",
    "\n",
    "iterations = 3\n",
    "\n",
    "param_list = []\n",
    "\n",
    "for i in range(iterations):\n",
    "    p = {}\n",
    "    for param, config in param_search_config.items():\n",
    "        if config['dtype'] is int:\n",
    "            rand_func = randint\n",
    "        if config['dtype'] is float:\n",
    "            rand_func = uniform\n",
    "        p[param] = rand_func(config['range'][0], config['range'][1])\n",
    "    param_list.append(p)\n",
    "    \n",
    "param_list"
   ]
  },
  {
   "cell_type": "code",
   "execution_count": 90,
   "metadata": {
    "scrolled": false
   },
   "outputs": [],
   "source": [
    "param_fixed = {\n",
    "    'userCol'          : 'user' , \n",
    "    'itemCol'          : 'movie' ,\n",
    "    'ratingCol'        : 'rating',\n",
    "    'coldStartStrategy': 'drop'  ,\n",
    "    'nonnegative'      : True    ,\n",
    "    'implicitPrefs'    : True    ,\n",
    "    'maxIter'          : 20      ,\n",
    "}"
   ]
  },
  {
   "cell_type": "code",
   "execution_count": 91,
   "metadata": {},
   "outputs": [],
   "source": [
    "evaluator = RegressionEvaluator(metricName='rmse', labelCol='rating', predictionCol='prediction')"
   ]
  },
  {
   "cell_type": "code",
   "execution_count": 92,
   "metadata": {},
   "outputs": [],
   "source": [
    "def evaluate_params(params, model_class, param_fixed, evaluator, train, test):\n",
    "    model = model_class(**params, **param_fixed)\n",
    "    predictions = model.fit(train).transform(test)\n",
    "    return evaluator.evaluate(predictions)\n",
    "\n",
    "def cv(params):\n",
    "    cv_folds = 3\n",
    "    score = 0\n",
    "    for i in range(cv_folds):\n",
    "        train, test = ratings.randomSplit([0.8, 0.2])\n",
    "        score += evaluate_params(\n",
    "            params      = params     ,\n",
    "            model_class = ALS        ,\n",
    "            param_fixed = param_fixed,\n",
    "            evaluator   = evaluator  ,\n",
    "            train       = train      ,\n",
    "            test        = test       ,\n",
    "        )\n",
    "    return (params, score / cv_folds)\n",
    "        \n",
    "# pool = Pool(processes=len(param_list))\n",
    "pool = Pool(processes=30)\n",
    "z = pool.map(cv, param_list)"
   ]
  },
  {
   "cell_type": "code",
   "execution_count": 96,
   "metadata": {},
   "outputs": [
    {
     "name": "stdout",
     "output_type": "stream",
     "text": [
      "({'rank': 11, 'regParam': 0.01466859469661283, 'alpha': 34.060979731990194}, 2.8802479994217314)\n",
      "({'rank': 11, 'regParam': 0.016232507674970403, 'alpha': 53.21284559409451}, 2.8657195507820004)\n",
      "({'rank': 12, 'regParam': 0.16493165591162007, 'alpha': 54.33731362066938}, 2.859226641085582)\n"
     ]
    }
   ],
   "source": [
    "for i in sorted(z, key = lambda x: x[1], reverse=True):\n",
    "    print(i)"
   ]
  }
 ],
 "metadata": {
  "kernelspec": {
   "display_name": "Python 3",
   "language": "python",
   "name": "python3"
  },
  "language_info": {
   "codemirror_mode": {
    "name": "ipython",
    "version": 3
   },
   "file_extension": ".py",
   "mimetype": "text/x-python",
   "name": "python",
   "nbconvert_exporter": "python",
   "pygments_lexer": "ipython3",
   "version": "3.6.7"
  }
 },
 "nbformat": 4,
 "nbformat_minor": 2
}
