{
 "cells": [
  {
   "cell_type": "markdown",
   "metadata": {},
   "source": [
    "# maxIter не надо искать, с ним все понятно: bigger is better\n",
    "\n",
    "\n",
    "### Params Grid Search\n",
    "Cool way to do gridsearch is `TrainValidationSplit` and `ParamGridBuilder`  \n",
    "but it is broken for many models including `ALS`  \n",
    "it doesn't save all params to `bestModel`  \n",
    "therefore I use my own grid search implementation\n",
    "\n",
    "see [modeling - How to extract model hyper-parameters from spark.ml in PySpark? - Stack Overflow](https://stackoverflow.com/questions/36697304/how-to-extract-model-hyper-parameters-from-spark-ml-in-pyspark)  \n",
    "maxIter - as rule of thumb: if `abs(metric[i]` - `metric[i - 1]) < 0.001` - stop iteration  \n",
    "Ну bigger is better, точнее матрица разлагается  \n",
    "[Тут пишут](https://spark.apache.org/docs/latest/mllib-collaborative-filtering.html), что ALS typically converges to a reasonable solution in 20 iterations or less. Хз мне кажется мало, потому что чет не очень в тему предлагает по жанрам)"
   ]
  },
  {
   "cell_type": "code",
   "execution_count": 1,
   "metadata": {},
   "outputs": [],
   "source": [
    "from pyspark.sql import SparkSession\n",
    "spark = SparkSession.builder.getOrCreate()\n",
    "spark.sparkContext.setCheckpointDir('checkpoint/') # https://stackoverflow.com/a/31484461"
   ]
  },
  {
   "cell_type": "code",
   "execution_count": 121,
   "metadata": {},
   "outputs": [],
   "source": [
    "from pyspark.ml.evaluation import RegressionEvaluator\n",
    "from pyspark.ml.recommendation import ALS\n",
    "from pyspark.ml.tuning import TrainValidationSplit, ParamGridBuilder\n",
    "from pyspark.sql.types import *\n",
    "from random import randint, uniform\n",
    "from multiprocessing.dummy import Pool # dummy means threads, not real processes\n",
    "import matplotlib.pyplot as plt\n",
    "import numpy as np"
   ]
  },
  {
   "cell_type": "code",
   "execution_count": 43,
   "metadata": {},
   "outputs": [
    {
     "name": "stdout",
     "output_type": "stream",
     "text": [
      "+----+-----+------+\n",
      "|user|movie|rating|\n",
      "+----+-----+------+\n",
      "|   1|    1|   4.0|\n",
      "|   1|    3|   4.0|\n",
      "|   1|    6|   4.0|\n",
      "|   1|   47|   5.0|\n",
      "|   1|   50|   5.0|\n",
      "+----+-----+------+\n",
      "only showing top 5 rows\n",
      "\n"
     ]
    }
   ],
   "source": [
    "ratings_schema = StructType([\n",
    "    StructField('user'     , IntegerType()),\n",
    "    StructField('movie'    , IntegerType()),\n",
    "    StructField('rating'   , DoubleType() ),\n",
    "    StructField('timestamp', LongType()   ),\n",
    "])\n",
    "\n",
    "ratings = spark.read.csv('ml-latest-small/ratings.csv', header=True, schema=ratings_schema).select(['user' , 'movie', 'rating'])\n",
    "ratings.show(5)"
   ]
  },
  {
   "cell_type": "markdown",
   "metadata": {},
   "source": [
    "# Random Search for Best Params"
   ]
  },
  {
   "cell_type": "code",
   "execution_count": 89,
   "metadata": {
    "scrolled": false
   },
   "outputs": [
    {
     "data": {
      "text/plain": [
       "[{'rank': 11, 'regParam': 0.01466859469661283, 'alpha': 34.060979731990194},\n",
       " {'rank': 12, 'regParam': 0.16493165591162007, 'alpha': 54.33731362066938},\n",
       " {'rank': 11, 'regParam': 0.016232507674970403, 'alpha': 53.21284559409451}]"
      ]
     },
     "execution_count": 89,
     "metadata": {},
     "output_type": "execute_result"
    }
   ],
   "source": [
    "param_search_config = {\n",
    "    'rank'    : {'range': (4    , 12 ), 'dtype': int  },\n",
    "    'regParam': {'range': (0.001, 0.4), 'dtype': float},\n",
    "    'alpha'   : {'range': (1.0  , 60 ), 'dtype': float},\n",
    "}\n",
    "\n",
    "iterations = 3\n",
    "\n",
    "param_list = []\n",
    "\n",
    "for i in range(iterations):\n",
    "    p = {}\n",
    "    for param, config in param_search_config.items():\n",
    "        if config['dtype'] is int:\n",
    "            rand_func = randint\n",
    "        if config['dtype'] is float:\n",
    "            rand_func = uniform\n",
    "        p[param] = rand_func(config['range'][0], config['range'][1])\n",
    "    param_list.append(p)\n",
    "    \n",
    "param_list"
   ]
  },
  {
   "cell_type": "code",
   "execution_count": 90,
   "metadata": {
    "scrolled": false
   },
   "outputs": [],
   "source": [
    "param_fixed = {\n",
    "    'userCol'          : 'user' , \n",
    "    'itemCol'          : 'movie' ,\n",
    "    'ratingCol'        : 'rating',\n",
    "    'coldStartStrategy': 'drop'  ,\n",
    "    'nonnegative'      : True    ,\n",
    "    'implicitPrefs'    : True    ,\n",
    "    'maxIter'          : 20      ,\n",
    "}"
   ]
  },
  {
   "cell_type": "code",
   "execution_count": 91,
   "metadata": {},
   "outputs": [],
   "source": [
    "evaluator = RegressionEvaluator(metricName='rmse', labelCol='rating', predictionCol='prediction')"
   ]
  },
  {
   "cell_type": "code",
   "execution_count": 92,
   "metadata": {},
   "outputs": [],
   "source": [
    "def evaluate_params(params, model_class, param_fixed, evaluator, train, test):\n",
    "    model = model_class(**params, **param_fixed)\n",
    "    predictions = model.fit(train).transform(test)\n",
    "    return evaluator.evaluate(predictions)\n",
    "\n",
    "def cv(params):\n",
    "    cv_folds = 3\n",
    "    score = 0\n",
    "    for i in range(cv_folds):\n",
    "        train, test = ratings.randomSplit([0.8, 0.2])\n",
    "        score += evaluate_params(\n",
    "            params      = params     ,\n",
    "            model_class = ALS        ,\n",
    "            param_fixed = param_fixed,\n",
    "            evaluator   = evaluator  ,\n",
    "            train       = train      ,\n",
    "            test        = test       ,\n",
    "        )\n",
    "    return (params, score / cv_folds)\n",
    "        \n",
    "# pool = Pool(processes=len(param_list))\n",
    "pool = Pool(processes=30)\n",
    "z = pool.map(cv, param_list)"
   ]
  },
  {
   "cell_type": "code",
   "execution_count": 108,
   "metadata": {},
   "outputs": [
    {
     "data": {
      "text/plain": [
       "False"
      ]
     },
     "execution_count": 108,
     "metadata": {},
     "output_type": "execute_result"
    }
   ],
   "source": []
  },
  {
   "cell_type": "code",
   "execution_count": 117,
   "metadata": {},
   "outputs": [
    {
     "name": "stdout",
     "output_type": "stream",
     "text": [
      "({'rank': 12, 'regParam': 0.16493165591162007, 'alpha': 54.33731362066938}, 2.859226641085582)\n",
      "({'rank': 11, 'regParam': 0.016232507674970403, 'alpha': 53.21284559409451}, 2.8657195507820004)\n",
      "({'rank': 11, 'regParam': 0.01466859469661283, 'alpha': 34.060979731990194}, 2.8802479994217314)\n"
     ]
    }
   ],
   "source": [
    "params_sorted = sorted(\n",
    "    z,\n",
    "    key = lambda x: x[1],\n",
    "    reverse = evaluator.isLargerBetter()\n",
    ")\n",
    "\n",
    "for i in params_sorted:\n",
    "    print(i)"
   ]
  },
  {
   "cell_type": "markdown",
   "metadata": {},
   "source": [
    "# Prediction using best params"
   ]
  },
  {
   "cell_type": "code",
   "execution_count": 123,
   "metadata": {},
   "outputs": [],
   "source": [
    "best_params = params_sorted[0][0]\n",
    "\n",
    "train, test = ratings.randomSplit([0.8, 0.2])\n",
    "model = ALS(**best_params, **param_fixed)\n",
    "predictions = model.fit(train).transform(test)"
   ]
  },
  {
   "cell_type": "code",
   "execution_count": 124,
   "metadata": {},
   "outputs": [],
   "source": [
    "rating_pred = predictions.rdd.map(lambda x: x.prediction).collect()\n",
    "rating_true = predictions.rdd.map(lambda x: x.rating    ).collect()"
   ]
  },
  {
   "cell_type": "code",
   "execution_count": 125,
   "metadata": {},
   "outputs": [
    {
     "data": {
      "text/plain": [
       "<matplotlib.legend.Legend at 0x7fe1af547cf8>"
      ]
     },
     "execution_count": 125,
     "metadata": {},
     "output_type": "execute_result"
    },
    {
     "data": {
      "image/png": "[encoded data removed]",
      "text/plain": [
       "<Figure size 504x360 with 1 Axes>"
      ]
     },
     "metadata": {
      "needs_background": "light"
     },
     "output_type": "display_data"
    }
   ],
   "source": [
    "error = np.array(rating_pred) - np.array(rating_true)\n",
    "mean = error.mean()\n",
    "std  = error.std() \n",
    "\n",
    "plt.figure(figsize=(7, 5))\n",
    "plt.plot(error, label='error = rating_pred - rating_true')\n",
    "plt.axhline(mean      , color='r')\n",
    "plt.axhline(mean - std, color='r')\n",
    "plt.axhline(mean + std, color='r')\n",
    "plt.legend(loc=1)"
   ]
  },
  {
   "cell_type": "code",
   "execution_count": 126,
   "metadata": {},
   "outputs": [
    {
     "data": {
      "text/plain": [
       "<matplotlib.legend.Legend at 0x7fe1c404b048>"
      ]
     },
     "execution_count": 126,
     "metadata": {},
     "output_type": "execute_result"
    },
    {
     "data": {
      "image/png": "[encoded data removed]",
      "text/plain": [
       "<Figure size 504x360 with 1 Axes>"
      ]
     },
     "metadata": {
      "needs_background": "light"
     },
     "output_type": "display_data"
    }
   ],
   "source": [
    "plt.figure(figsize=(7, 5))\n",
    "plt.hist(error, bins=50, label='error = rating_pred - rating_true')\n",
    "plt.axvline(x=mean, color='red')\n",
    "plt.legend(loc=1)"
   ]
  }
 ],
 "metadata": {
  "kernelspec": {
   "display_name": "Python 3",
   "language": "python",
   "name": "python3"
  },
  "language_info": {
   "codemirror_mode": {
    "name": "ipython",
    "version": 3
   },
   "file_extension": ".py",
   "mimetype": "text/x-python",
   "name": "python",
   "nbconvert_exporter": "python",
   "pygments_lexer": "ipython3",
   "version": "3.6.7"
  }
 },
 "nbformat": 4,
 "nbformat_minor": 2
}
