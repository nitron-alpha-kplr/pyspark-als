{
 "cells": [
  {
   "cell_type": "code",
   "execution_count": 4,
   "metadata": {},
   "outputs": [
    {
     "name": "stdout",
     "output_type": "stream",
     "text": [
      "--2018-12-24 05:32:04--  http://files.grouplens.org/datasets/movielens/ml-latest-small.zip\n",
      "Resolving files.grouplens.org (files.grouplens.org)... 128.101.34.235\n",
      "Connecting to files.grouplens.org (files.grouplens.org)|128.101.34.235|:80... connected.\n",
      "HTTP request sent, awaiting response... 200 OK\n",
      "Length: 978202 (955K) [application/zip]\n",
      "Saving to: ‘ml-latest-small.zip’\n",
      "\n",
      "ml-latest-small.zip 100%[===================>] 955.28K   591KB/s    in 1.6s    \n",
      "\n",
      "2018-12-24 05:32:06 (591 KB/s) - ‘ml-latest-small.zip’ saved [978202/978202]\n",
      "\n",
      "Archive:  ml-latest-small.zip\n",
      "   creating: ml-latest-small/\n",
      "  inflating: ml-latest-small/links.csv  \n",
      "  inflating: ml-latest-small/tags.csv  \n",
      "  inflating: ml-latest-small/ratings.csv  \n",
      "  inflating: ml-latest-small/README.txt  \n",
      "  inflating: ml-latest-small/movies.csv  \n"
     ]
    }
   ],
   "source": [
    "!wget http://files.grouplens.org/datasets/movielens/ml-latest-small.zip\n",
    "!unzip ml-latest-small.zip"
   ]
  },
  {
   "cell_type": "code",
   "execution_count": 1,
   "metadata": {},
   "outputs": [
    {
     "name": "stdout",
     "output_type": "stream",
     "text": [
      "ml-latest-small  ml-latest-small.zip  Untitled.ipynb  work\r\n"
     ]
    }
   ],
   "source": [
    "!ls"
   ]
  },
  {
   "cell_type": "code",
   "execution_count": 3,
   "metadata": {},
   "outputs": [
    {
     "name": "stdout",
     "output_type": "stream",
     "text": [
      "rm: cannot remove 'ml-latest-small.zip': No such file or directory\n",
      "Untitled.ipynb\twork\n"
     ]
    }
   ],
   "source": [
    "!rm -rf ml-latest-small\n",
    "!rm ml-latest-small.zip\n",
    "!ls"
   ]
  },
  {
   "cell_type": "code",
   "execution_count": 291,
   "metadata": {},
   "outputs": [],
   "source": [
    "from pyspark.sql import SparkSession\n",
    "spark = SparkSession.builder.getOrCreate()\n",
    "spark.sparkContext.setLogLevel('INFO')"
   ]
  },
  {
   "cell_type": "code",
   "execution_count": 292,
   "metadata": {},
   "outputs": [
    {
     "name": "stdout",
     "output_type": "stream",
     "text": [
      "+----+-----+------+\n",
      "|user|movie|rating|\n",
      "+----+-----+------+\n",
      "|   1|    1|   4.0|\n",
      "|   1|    3|   4.0|\n",
      "|   1|    6|   4.0|\n",
      "|   1|   47|   5.0|\n",
      "|   1|   50|   5.0|\n",
      "|   1|   70|   3.0|\n",
      "|   1|  101|   5.0|\n",
      "|   1|  110|   4.0|\n",
      "|   1|  151|   5.0|\n",
      "|   1|  157|   5.0|\n",
      "|   1|  163|   5.0|\n",
      "|   1|  216|   5.0|\n",
      "|   1|  223|   3.0|\n",
      "|   1|  231|   5.0|\n",
      "|   1|  235|   4.0|\n",
      "|   1|  260|   5.0|\n",
      "|   1|  296|   3.0|\n",
      "|   1|  316|   3.0|\n",
      "|   1|  333|   5.0|\n",
      "|   1|  349|   4.0|\n",
      "+----+-----+------+\n",
      "only showing top 20 rows\n",
      "\n"
     ]
    }
   ],
   "source": [
    "from pyspark.ml.evaluation import RegressionEvaluator\n",
    "from pyspark.ml.recommendation import ALS\n",
    "from pyspark.ml.tuning import TrainValidationSplit, ParamGridBuilder\n",
    "from pyspark.sql.types import *\n",
    "\n",
    "\n",
    "schema = StructType([\n",
    "    StructField('user'     , IntegerType()),\n",
    "    StructField('movie'    , IntegerType()),\n",
    "    StructField('rating'   , DoubleType() ),\n",
    "    StructField('timestamp', LongType()   ),\n",
    "])\n",
    "\n",
    "ratings = spark.read.csv('ml-latest-small/ratings.csv', header=True, schema=schema).select(['user', 'movie', 'rating'])\n",
    "# ratings = ratings.limit(500)\n",
    "ratings.show()"
   ]
  },
  {
   "cell_type": "code",
   "execution_count": 294,
   "metadata": {},
   "outputs": [],
   "source": [
    "train, test = ratings.randomSplit([0.8, 0.2])"
   ]
  },
  {
   "cell_type": "code",
   "execution_count": 295,
   "metadata": {},
   "outputs": [],
   "source": [
    "best_params = {'rank': 14, 'maxIter': 20, 'regParam': 0.18}\n",
    "als = ALS(**best_params, **param_fixed)"
   ]
  },
  {
   "cell_type": "code",
   "execution_count": 296,
   "metadata": {},
   "outputs": [],
   "source": [
    "fitted = als.fit(train)"
   ]
  },
  {
   "cell_type": "code",
   "execution_count": 369,
   "metadata": {
    "scrolled": false
   },
   "outputs": [],
   "source": [
    "user_recs_0 = fitted.recommendForAllUsers(10)\n",
    "user_recs_explode = user_recs_0.withColumn('recommendations', F.explode(user_recs_0.recommendations))\n",
    "user_recs_1 = user_recs_explode.select(\n",
    "    user_recs_explode.user,\n",
    "    user_recs_explode.recommendations.movie.alias('movie'),\n",
    "    user_recs_explode.recommendations.rating.alias('rating_prediction'),\n",
    ")"
   ]
  },
  {
   "cell_type": "code",
   "execution_count": 377,
   "metadata": {
    "scrolled": false
   },
   "outputs": [
    {
     "name": "stdout",
     "output_type": "stream",
     "text": [
      "+----+-----------------+-----+-----------------------------------------------+-------------------------------------+\n",
      "|user|rating_prediction|movie|                                          title|                               genres|\n",
      "+----+-----------------+-----+-----------------------------------------------+-------------------------------------+\n",
      "| 471|         4.808158| 3379|                            On the Beach (1959)|                                Drama|\n",
      "| 471|        4.5996847| 8477|                               Jetée, La (1962)|                       Romance|Sci-Fi|\n",
      "| 471|         4.581737|33649|                             Saving Face (2004)|                 Comedy|Drama|Romance|\n",
      "| 471|         4.576496| 5490|                             The Big Bus (1976)|                        Action|Comedy|\n",
      "| 471|        4.5592074|59018|                            Visitor, The (2007)|                        Drama|Romance|\n",
      "| 471|        4.5592074|60943|                            Frozen River (2008)|                                Drama|\n",
      "| 471|        4.4785137|40491|Match Factory Girl, The (Tulitikkutehtaan ty...|                         Comedy|Drama|\n",
      "| 471|        4.4785137|99764|               It's Such a Beautiful Day (2012)|Animation|Comedy|Drama|Fantasy|Sci-Fi|\n",
      "| 471|        4.4785137| 6818|             Come and See (Idi i smotri) (1985)|                            Drama|War|\n",
      "| 471|        4.4659853| 6442|                            Belle époque (1992)|                       Comedy|Romance|\n",
      "+----+-----------------+-----+-----------------------------------------------+-------------------------------------+\n",
      "\n"
     ]
    }
   ],
   "source": [
    "user_recs_joined = user_recs_1.join(movies, user_recs_1.movie == movies.movieId)\n",
    "user_recs = user_recs_joined.select(\n",
    "    user_recs_joined.user,\n",
    "    user_recs_joined.rating_prediction,\n",
    "    user_recs_joined.movie,\n",
    "    user_recs_joined.title,\n",
    "    user_recs_joined.genres,\n",
    ")\n",
    "user = 471\n",
    "user_recs[user_recs.user == user].show(truncate=47)"
   ]
  },
  {
   "cell_type": "code",
   "execution_count": 333,
   "metadata": {},
   "outputs": [
    {
     "name": "stdout",
     "output_type": "stream",
     "text": [
      "+----+------------------+\n",
      "|user|   recommendations|\n",
      "+----+------------------+\n",
      "| 471|  [3379, 4.808158]|\n",
      "| 471| [8477, 4.5996847]|\n",
      "| 471| [33649, 4.581737]|\n",
      "| 471|  [5490, 4.576496]|\n",
      "| 471|[59018, 4.5592074]|\n",
      "| 471|[60943, 4.5592074]|\n",
      "| 471|[40491, 4.4785137]|\n",
      "| 471|[99764, 4.4785137]|\n",
      "| 471| [6818, 4.4785137]|\n",
      "| 471| [6442, 4.4659853]|\n",
      "| 463|  [3379, 5.162845]|\n",
      "| 463|[33649, 5.0518336]|\n",
      "| 463| [60943, 5.026803]|\n",
      "| 463| [59018, 5.026803]|\n",
      "| 463| [69524, 4.839618]|\n",
      "| 463| [67618, 4.823662]|\n",
      "| 463|[117531, 4.792969]|\n",
      "| 463| [26073, 4.792969]|\n",
      "| 463|  [7071, 4.792969]|\n",
      "| 463| [84273, 4.792969]|\n",
      "+----+------------------+\n",
      "only showing top 20 rows\n",
      "\n"
     ]
    }
   ],
   "source": [
    "user_recs_explode = user_recs.withColumn('recommendations', F.explode(user_recs.recommendations))\n",
    "user_recs_explode.show()"
   ]
  },
  {
   "cell_type": "code",
   "execution_count": 336,
   "metadata": {},
   "outputs": [
    {
     "name": "stdout",
     "output_type": "stream",
     "text": [
      "+----+------+-----------------+\n",
      "|user| movie|rating_prediction|\n",
      "+----+------+-----------------+\n",
      "| 471|  3379|         4.808158|\n",
      "| 471|  8477|        4.5996847|\n",
      "| 471| 33649|         4.581737|\n",
      "| 471|  5490|         4.576496|\n",
      "| 471| 59018|        4.5592074|\n",
      "| 471| 60943|        4.5592074|\n",
      "| 471| 40491|        4.4785137|\n",
      "| 471| 99764|        4.4785137|\n",
      "| 471|  6818|        4.4785137|\n",
      "| 471|  6442|        4.4659853|\n",
      "| 463|  3379|         5.162845|\n",
      "| 463| 33649|        5.0518336|\n",
      "| 463| 60943|         5.026803|\n",
      "| 463| 59018|         5.026803|\n",
      "| 463| 69524|         4.839618|\n",
      "| 463| 67618|         4.823662|\n",
      "| 463|117531|         4.792969|\n",
      "| 463| 26073|         4.792969|\n",
      "| 463|  7071|         4.792969|\n",
      "| 463| 84273|         4.792969|\n",
      "+----+------+-----------------+\n",
      "only showing top 20 rows\n",
      "\n"
     ]
    }
   ],
   "source": [
    "user_recs_final = user_recs_explode.select(\n",
    "    user_recs_explode.user,\n",
    "    user_recs_explode.recommendations.movie.alias('movie'),\n",
    "    user_recs_explode.recommendations.rating.alias('rating_prediction'),\n",
    ")\n",
    "user_recs_final.show()"
   ]
  },
  {
   "cell_type": "code",
   "execution_count": 334,
   "metadata": {},
   "outputs": [
    {
     "data": {
      "text/plain": [
       "Row(user=471, recommendations=Row(movie=3379, rating=4.808157920837402))"
      ]
     },
     "execution_count": 334,
     "metadata": {},
     "output_type": "execute_result"
    }
   ],
   "source": [
    "user_recs_explode.first()"
   ]
  },
  {
   "cell_type": "code",
   "execution_count": 328,
   "metadata": {},
   "outputs": [
    {
     "name": "stdout",
     "output_type": "stream",
     "text": [
      "+----+------------------+\n",
      "|user|   recommendations|\n",
      "+----+------------------+\n",
      "| 471|  [3379, 4.808158]|\n",
      "| 471| [8477, 4.5996847]|\n",
      "| 471| [33649, 4.581737]|\n",
      "| 471|  [5490, 4.576496]|\n",
      "| 471|[59018, 4.5592074]|\n",
      "| 471|[60943, 4.5592074]|\n",
      "| 471|[40491, 4.4785137]|\n",
      "| 471|[99764, 4.4785137]|\n",
      "| 471| [6818, 4.4785137]|\n",
      "| 471| [6442, 4.4659853]|\n",
      "| 463|  [3379, 5.162845]|\n",
      "| 463|[33649, 5.0518336]|\n",
      "| 463| [60943, 5.026803]|\n",
      "| 463| [59018, 5.026803]|\n",
      "| 463| [69524, 4.839618]|\n",
      "| 463| [67618, 4.823662]|\n",
      "| 463|[117531, 4.792969]|\n",
      "| 463| [26073, 4.792969]|\n",
      "| 463|  [7071, 4.792969]|\n",
      "| 463| [84273, 4.792969]|\n",
      "+----+------------------+\n",
      "only showing top 20 rows\n",
      "\n"
     ]
    }
   ],
   "source": [
    "import pyspark.sql.functions as F\n",
    "user_recs = user_recs.withColumn('recommendations', F.explode(user_recs.recommendations)).show()"
   ]
  },
  {
   "cell_type": "code",
   "execution_count": 322,
   "metadata": {
    "scrolled": false
   },
   "outputs": [
    {
     "name": "stdout",
     "output_type": "stream",
     "text": [
      "+----+-----+------+-------+-----------------------------------------+--------------------------------+\n",
      "|user|movie|rating|movieId|title                                    |genres                          |\n",
      "+----+-----+------+-------+-----------------------------------------+--------------------------------+\n",
      "|14  |4    |3.0   |4      |Waiting to Exhale (1995)                 |Comedy|Drama|Romance            |\n",
      "|14  |7    |3.0   |7      |Sabrina (1995)                           |Comedy|Romance                  |\n",
      "|14  |19   |1.0   |19     |Ace Ventura: When Nature Calls (1995)    |Comedy                          |\n",
      "|14  |25   |4.0   |25     |Leaving Las Vegas (1995)                 |Drama|Romance                   |\n",
      "|14  |32   |4.0   |32     |Twelve Monkeys (a.k.a. 12 Monkeys) (1995)|Mystery|Sci-Fi|Thriller         |\n",
      "|14  |39   |3.0   |39     |Clueless (1995)                          |Comedy|Romance                  |\n",
      "|14  |47   |5.0   |47     |Seven (a.k.a. Se7en) (1995)              |Mystery|Thriller                |\n",
      "|14  |95   |5.0   |95     |Broken Arrow (1996)                      |Action|Adventure|Thriller       |\n",
      "|14  |105  |3.0   |105    |Bridges of Madison County, The (1995)    |Drama|Romance                   |\n",
      "|14  |110  |5.0   |110    |Braveheart (1995)                        |Action|Drama|War                |\n",
      "|14  |150  |4.0   |150    |Apollo 13 (1995)                         |Adventure|Drama|IMAX            |\n",
      "|14  |153  |2.0   |153    |Batman Forever (1995)                    |Action|Adventure|Comedy|Crime   |\n",
      "|14  |193  |3.0   |193    |Showgirls (1995)                         |Drama                           |\n",
      "|14  |231  |3.0   |231    |Dumb & Dumber (Dumb and Dumber) (1994)   |Adventure|Comedy                |\n",
      "|14  |266  |5.0   |266    |Legends of the Fall (1994)               |Drama|Romance|War|Western       |\n",
      "|14  |282  |5.0   |282    |Nell (1994)                              |Drama                           |\n",
      "|14  |288  |4.0   |288    |Natural Born Killers (1994)              |Action|Crime|Thriller           |\n",
      "|14  |296  |3.0   |296    |Pulp Fiction (1994)                      |Comedy|Crime|Drama|Thriller     |\n",
      "|14  |318  |3.0   |318    |Shawshank Redemption, The (1994)         |Crime|Drama                     |\n",
      "|14  |337  |5.0   |337    |What's Eating Gilbert Grape (1993)       |Drama                           |\n",
      "|14  |339  |4.0   |339    |While You Were Sleeping (1995)           |Comedy|Romance                  |\n",
      "|14  |344  |2.0   |344    |Ace Ventura: Pet Detective (1994)        |Comedy                          |\n",
      "|14  |351  |3.0   |351    |Corrina, Corrina (1994)                  |Comedy|Drama|Romance            |\n",
      "|14  |356  |4.0   |356    |Forrest Gump (1994)                      |Comedy|Drama|Romance|War        |\n",
      "|14  |367  |1.0   |367    |Mask, The (1994)                         |Action|Comedy|Crime|Fantasy     |\n",
      "|14  |376  |4.0   |376    |River Wild, The (1994)                   |Action|Thriller                 |\n",
      "|14  |377  |3.0   |377    |Speed (1994)                             |Action|Romance|Thriller         |\n",
      "|14  |383  |4.0   |383    |Wyatt Earp (1994)                        |Western                         |\n",
      "|14  |434  |4.0   |434    |Cliffhanger (1993)                       |Action|Adventure|Thriller       |\n",
      "|14  |448  |3.0   |448    |Fearless (1993)                          |Drama                           |\n",
      "|14  |455  |3.0   |455    |Free Willy (1993)                        |Adventure|Children|Drama        |\n",
      "|14  |477  |4.0   |477    |What's Love Got to Do with It? (1993)    |Drama|Musical                   |\n",
      "|14  |480  |3.0   |480    |Jurassic Park (1993)                     |Action|Adventure|Sci-Fi|Thriller|\n",
      "|14  |491  |3.0   |491    |Man Without a Face, The (1993)           |Drama                           |\n",
      "|14  |508  |3.0   |508    |Philadelphia (1993)                      |Drama                           |\n",
      "|14  |509  |5.0   |509    |Piano, The (1993)                        |Drama|Romance                   |\n",
      "|14  |524  |3.0   |524    |Rudy (1993)                              |Drama                           |\n",
      "|14  |527  |3.0   |527    |Schindler's List (1993)                  |Drama|War                       |\n",
      "|14  |539  |4.0   |539    |Sleepless in Seattle (1993)              |Comedy|Drama|Romance            |\n",
      "|14  |540  |3.0   |540    |Sliver (1993)                            |Thriller                        |\n",
      "|14  |552  |3.0   |552    |Three Musketeers, The (1993)             |Action|Adventure|Comedy|Romance |\n",
      "|14  |553  |4.0   |553    |Tombstone (1993)                         |Action|Drama|Western            |\n",
      "|14  |586  |3.0   |586    |Home Alone (1990)                        |Children|Comedy                 |\n",
      "|14  |590  |4.0   |590    |Dances with Wolves (1990)                |Adventure|Drama|Western         |\n",
      "|14  |592  |2.0   |592    |Batman (1989)                            |Action|Crime|Thriller           |\n",
      "|14  |593  |4.0   |593    |Silence of the Lambs, The (1991)         |Crime|Horror|Thriller           |\n",
      "|14  |597  |3.0   |597    |Pretty Woman (1990)                      |Comedy|Romance                  |\n",
      "|14  |784  |1.0   |784    |Cable Guy, The (1996)                    |Comedy|Thriller                 |\n",
      "+----+-----+------+-------+-----------------------------------------+--------------------------------+\n",
      "\n"
     ]
    }
   ],
   "source": [
    "user_ratings = ratings[ratings.user == 14]\n",
    "user_ratings.join(movies, user_ratings.movie == movies.movieId).show(100, truncate=False)"
   ]
  },
  {
   "cell_type": "code",
   "execution_count": 312,
   "metadata": {},
   "outputs": [],
   "source": [
    "def recs(user_recs, user, movies):\n",
    "    r = user_recs[user_recs.user == user].first().recommendations\n",
    "    r_movies = [x.movie for x in r]\n",
    "    print(r_movies)\n",
    "    return r"
   ]
  },
  {
   "cell_type": "code",
   "execution_count": 314,
   "metadata": {},
   "outputs": [
    {
     "name": "stdout",
     "output_type": "stream",
     "text": [
      "[3379, 8477, 33649, 5490, 59018, 60943, 40491, 99764, 6818, 6442]\n"
     ]
    },
    {
     "data": {
      "text/plain": [
       "[Row(movie=3379, rating=4.808157920837402),\n",
       " Row(movie=8477, rating=4.599684715270996),\n",
       " Row(movie=33649, rating=4.581737041473389),\n",
       " Row(movie=5490, rating=4.576496124267578),\n",
       " Row(movie=59018, rating=4.559207439422607),\n",
       " Row(movie=60943, rating=4.559207439422607),\n",
       " Row(movie=40491, rating=4.478513717651367),\n",
       " Row(movie=99764, rating=4.478513717651367),\n",
       " Row(movie=6818, rating=4.478513717651367),\n",
       " Row(movie=6442, rating=4.465985298156738)]"
      ]
     },
     "execution_count": 314,
     "metadata": {},
     "output_type": "execute_result"
    }
   ],
   "source": [
    "recs(user_recs, 471, movies)"
   ]
  },
  {
   "cell_type": "code",
   "execution_count": 317,
   "metadata": {},
   "outputs": [
    {
     "name": "stdout",
     "output_type": "stream",
     "text": [
      "+-------+--------------------+--------------------+\n",
      "|movieId|               title|              genres|\n",
      "+-------+--------------------+--------------------+\n",
      "|   3379| On the Beach (1959)|               Drama|\n",
      "|   5490|  The Big Bus (1976)|       Action|Comedy|\n",
      "|   6442| Belle époque (1992)|      Comedy|Romance|\n",
      "|   6818|Come and See (Idi...|           Drama|War|\n",
      "|   8477|    Jetée, La (1962)|      Romance|Sci-Fi|\n",
      "|  33649|  Saving Face (2004)|Comedy|Drama|Romance|\n",
      "|  40491|Match Factory Gir...|        Comedy|Drama|\n",
      "|  59018| Visitor, The (2007)|       Drama|Romance|\n",
      "|  60943| Frozen River (2008)|               Drama|\n",
      "|  99764|It's Such a Beaut...|Animation|Comedy|...|\n",
      "+-------+--------------------+--------------------+\n",
      "\n"
     ]
    }
   ],
   "source": [
    "movies[movies.movieId.isin([3379, 8477, 33649, 5490, 59018, 60943, 40491, 99764, 6818, 6442])].show()"
   ]
  },
  {
   "cell_type": "code",
   "execution_count": null,
   "metadata": {},
   "outputs": [],
   "source": [
    "Row(\n",
    "    user=471, \n",
    "    recommendations = [\n",
    "        Row(movie=3379, rating=4.808157920837402), \n",
    "        Row(movie=8477, rating=4.599684715270996), \n",
    "        Row(movie=33649, rating=4.581737041473389), \n",
    "        Row(movie=5490, rating=4.576496124267578), \n",
    "        Row(movie=59018, rating=4.559207439422607), \n",
    "        Row(movie=60943, rating=4.559207439422607), \n",
    "        Row(movie=40491, rating=4.478513717651367), \n",
    "        Row(movie=99764, rating=4.478513717651367), \n",
    "        Row(movie=6818, rating=4.478513717651367), \n",
    "        Row(movie=6442, rating=4.465985298156738)\n",
    "    ]\n",
    ")"
   ]
  },
  {
   "cell_type": "code",
   "execution_count": 301,
   "metadata": {},
   "outputs": [
    {
     "data": {
      "text/plain": [
       "Row(user=471, recommendations=[Row(movie=3379, rating=4.808157920837402), Row(movie=8477, rating=4.599684715270996), Row(movie=33649, rating=4.581737041473389), Row(movie=5490, rating=4.576496124267578), Row(movie=59018, rating=4.559207439422607), Row(movie=60943, rating=4.559207439422607), Row(movie=40491, rating=4.478513717651367), Row(movie=99764, rating=4.478513717651367), Row(movie=6818, rating=4.478513717651367), Row(movie=6442, rating=4.465985298156738)])"
      ]
     },
     "execution_count": 301,
     "metadata": {},
     "output_type": "execute_result"
    }
   ],
   "source": [
    "user_recs.first()"
   ]
  },
  {
   "cell_type": "code",
   "execution_count": 371,
   "metadata": {},
   "outputs": [
    {
     "name": "stdout",
     "output_type": "stream",
     "text": [
      "+-------+-------------------------------------+-------------------------------------------+\n",
      "|movieId|title                                |genres                                     |\n",
      "+-------+-------------------------------------+-------------------------------------------+\n",
      "|1      |Toy Story (1995)                     |Adventure|Animation|Children|Comedy|Fantasy|\n",
      "|2      |Jumanji (1995)                       |Adventure|Children|Fantasy                 |\n",
      "|3      |Grumpier Old Men (1995)              |Comedy|Romance                             |\n",
      "|4      |Waiting to Exhale (1995)             |Comedy|Drama|Romance                       |\n",
      "|5      |Father of the Bride Part II (1995)   |Comedy                                     |\n",
      "|6      |Heat (1995)                          |Action|Crime|Thriller                      |\n",
      "|7      |Sabrina (1995)                       |Comedy|Romance                             |\n",
      "|8      |Tom and Huck (1995)                  |Adventure|Children                         |\n",
      "|9      |Sudden Death (1995)                  |Action                                     |\n",
      "|10     |GoldenEye (1995)                     |Action|Adventure|Thriller                  |\n",
      "|11     |American President, The (1995)       |Comedy|Drama|Romance                       |\n",
      "|12     |Dracula: Dead and Loving It (1995)   |Comedy|Horror                              |\n",
      "|13     |Balto (1995)                         |Adventure|Animation|Children               |\n",
      "|14     |Nixon (1995)                         |Drama                                      |\n",
      "|15     |Cutthroat Island (1995)              |Action|Adventure|Romance                   |\n",
      "|16     |Casino (1995)                        |Crime|Drama                                |\n",
      "|17     |Sense and Sensibility (1995)         |Drama|Romance                              |\n",
      "|18     |Four Rooms (1995)                    |Comedy                                     |\n",
      "|19     |Ace Ventura: When Nature Calls (1995)|Comedy                                     |\n",
      "|20     |Money Train (1995)                   |Action|Comedy|Crime|Drama|Thriller         |\n",
      "+-------+-------------------------------------+-------------------------------------------+\n",
      "only showing top 20 rows\n",
      "\n"
     ]
    }
   ],
   "source": [
    "schema = StructType([\n",
    "    StructField('movieId', IntegerType()),\n",
    "    StructField('title'  , StringType ()),\n",
    "    StructField('genres' , StringType ()),\n",
    "])\n",
    "movies = spark.read.csv('ml-latest-small/movies.csv', header=True, schema=schema)\n",
    "# ratings = ratings.limit(500)\n",
    "movies.show(truncate=False)"
   ]
  },
  {
   "cell_type": "code",
   "execution_count": 196,
   "metadata": {},
   "outputs": [
    {
     "data": {
      "text/plain": [
       "20167.2"
      ]
     },
     "execution_count": 196,
     "metadata": {},
     "output_type": "execute_result"
    }
   ],
   "source": [
    "ratings.count() * 0.2 "
   ]
  },
  {
   "cell_type": "code",
   "execution_count": null,
   "metadata": {},
   "outputs": [],
   "source": [
    "predictions.count()"
   ]
  },
  {
   "cell_type": "code",
   "execution_count": 131,
   "metadata": {},
   "outputs": [],
   "source": [
    "def grid_search(model_class, param_grid, param_fixed, evaluator, train, test):\n",
    "    '''todo: multithreading'''\n",
    "    n_combs = reduce(mul, map(len, param_grid.values()))\n",
    "    best_score = float('inf')\n",
    "    best_params = None\n",
    "    for i, param_comb in enumerate(product(*param_grid.values())):\n",
    "        params = dict(zip(param_grid.keys(), param_comb))\n",
    "        print('params', params)\n",
    "        model = model_class(**params, **param_fixed)\n",
    "        predictions = model.fit(train).transform(test)\n",
    "        score = evaluator.evaluate(predictions)\n",
    "        print('score', score)\n",
    "        if score < best_score:\n",
    "            best_score = score\n",
    "            best_params = params\n",
    "            print('new best params found')\n",
    "        print('progress:', i + 1, '/', n_combs)\n",
    "    return best_params"
   ]
  },
  {
   "cell_type": "code",
   "execution_count": null,
   "metadata": {},
   "outputs": [],
   "source": []
  },
  {
   "cell_type": "code",
   "execution_count": 132,
   "metadata": {
    "scrolled": false
   },
   "outputs": [
    {
     "name": "stdout",
     "output_type": "stream",
     "text": [
      "params {'rank': 12, 'maxIter': 18, 'regParam': 0.17}\n",
      "score 0.8741072601121304\n",
      "new best params found\n",
      "progress: 1 / 18\n",
      "params {'rank': 12, 'maxIter': 18, 'regParam': 0.18}\n",
      "score 0.8760237024227746\n",
      "progress: 2 / 18\n",
      "params {'rank': 12, 'maxIter': 19, 'regParam': 0.17}\n",
      "score 0.874012156847855\n",
      "new best params found\n",
      "progress: 3 / 18\n",
      "params {'rank': 12, 'maxIter': 19, 'regParam': 0.18}\n",
      "score 0.8759222275197052\n",
      "progress: 4 / 18\n",
      "params {'rank': 12, 'maxIter': 20, 'regParam': 0.17}\n",
      "score 0.8739377364899598\n",
      "new best params found\n",
      "progress: 5 / 18\n",
      "params {'rank': 12, 'maxIter': 20, 'regParam': 0.18}\n",
      "score 0.8758403346207211\n",
      "progress: 6 / 18\n",
      "params {'rank': 13, 'maxIter': 18, 'regParam': 0.17}\n",
      "score 0.8741988499588187\n",
      "progress: 7 / 18\n",
      "params {'rank': 13, 'maxIter': 18, 'regParam': 0.18}\n",
      "score 0.876192721629853\n",
      "progress: 8 / 18\n",
      "params {'rank': 13, 'maxIter': 19, 'regParam': 0.17}\n",
      "score 0.8740754890831866\n",
      "progress: 9 / 18\n",
      "params {'rank': 13, 'maxIter': 19, 'regParam': 0.18}\n",
      "score 0.8760755309010706\n",
      "progress: 10 / 18\n",
      "params {'rank': 13, 'maxIter': 20, 'regParam': 0.17}\n",
      "score 0.8739834019785855\n",
      "progress: 11 / 18\n",
      "params {'rank': 13, 'maxIter': 20, 'regParam': 0.18}\n",
      "score 0.8759876196550063\n",
      "progress: 12 / 18\n",
      "params {'rank': 14, 'maxIter': 18, 'regParam': 0.17}\n",
      "score 0.8753880934080034\n",
      "progress: 13 / 18\n",
      "params {'rank': 14, 'maxIter': 18, 'regParam': 0.18}\n",
      "score 0.8771303024364773\n",
      "progress: 14 / 18\n",
      "params {'rank': 14, 'maxIter': 19, 'regParam': 0.17}\n",
      "score 0.8752202122275271\n",
      "progress: 15 / 18\n",
      "params {'rank': 14, 'maxIter': 19, 'regParam': 0.18}\n",
      "score 0.8769617088691529\n",
      "progress: 16 / 18\n",
      "params {'rank': 14, 'maxIter': 20, 'regParam': 0.17}\n",
      "score 0.8750829116043584\n",
      "progress: 17 / 18\n",
      "params {'rank': 14, 'maxIter': 20, 'regParam': 0.18}\n",
      "score 0.8768287702601085\n",
      "progress: 18 / 18\n"
     ]
    }
   ],
   "source": [
    "param_grid = {\n",
    "    'rank'    : [12, 13, 14],\n",
    "    'maxIter' : [18, 19, 20],\n",
    "    'regParam': [0.17, 0.18],\n",
    "}\n",
    "\n",
    "param_fixed = {\n",
    "    'userCol'          : 'user', \n",
    "    'itemCol'          : 'movie', \n",
    "    'ratingCol'        : 'rating', \n",
    "    'coldStartStrategy': 'drop', \n",
    "    'nonnegative'      : True,\n",
    "}\n",
    "\n",
    "evaluator = RegressionEvaluator(metricName='rmse', labelCol='rating', predictionCol='prediction')\n",
    "\n",
    "best_params = grid_search(ALS, param_grid, param_fixed, evaluator, train, test)"
   ]
  },
  {
   "cell_type": "code",
   "execution_count": 135,
   "metadata": {},
   "outputs": [
    {
     "data": {
      "text/plain": [
       "{'rank': 12, 'maxIter': 20, 'regParam': 0.17}"
      ]
     },
     "execution_count": 135,
     "metadata": {},
     "output_type": "execute_result"
    }
   ],
   "source": [
    "best_params"
   ]
  },
  {
   "cell_type": "code",
   "execution_count": null,
   "metadata": {},
   "outputs": [],
   "source": [
    "({'rank': 9, 'maxIter': 18, 'regParam': 0.1338888888888889}, 0.8743975309294529)"
   ]
  },
  {
   "cell_type": "code",
   "execution_count": 289,
   "metadata": {},
   "outputs": [],
   "source": [
    "best_params = {'rank': 11, 'maxIter': 18, 'regParam': 0.1338}\n",
    "als = ALS(**best_params, **param_fixed)\n",
    "\n",
    "predictions = als.fit(train).transform(test)\n",
    "# score = evaluator.evaluate(predictions)"
   ]
  },
  {
   "cell_type": "code",
   "execution_count": 290,
   "metadata": {},
   "outputs": [
    {
     "data": {
      "text/plain": [
       "0.8709598575257668"
      ]
     },
     "execution_count": 290,
     "metadata": {},
     "output_type": "execute_result"
    }
   ],
   "source": [
    "evaluator.evaluate(predictions)"
   ]
  },
  {
   "cell_type": "code",
   "execution_count": 276,
   "metadata": {},
   "outputs": [
    {
     "name": "stdout",
     "output_type": "stream",
     "text": [
      "+----+-----+------+----------+\n",
      "|user|movie|rating|prediction|\n",
      "+----+-----+------+----------+\n",
      "| 385|  471|   4.0| 3.2309332|\n",
      "| 436|  471|   3.0|  3.834247|\n",
      "|  91|  471|   1.0| 2.5424914|\n",
      "| 409|  471|   3.0| 3.7706063|\n",
      "| 599|  471|   2.5| 2.6806333|\n",
      "| 218|  471|   4.0|  3.090596|\n",
      "| 555|  471|   3.0|  3.944111|\n",
      "| 176|  471|   5.0|  3.867045|\n",
      "| 448|  471|   4.0| 3.8927777|\n",
      "| 373|  471|   5.0|  4.264653|\n",
      "|  44|  833|   2.0| 2.4503891|\n",
      "| 606| 1088|   3.0| 3.6543002|\n",
      "| 132| 1088|   4.0|  3.017855|\n",
      "| 474| 1088|   3.5| 3.4481354|\n",
      "| 286| 1088|   3.5|  3.728531|\n",
      "| 387| 1088|   1.5| 2.9883533|\n",
      "| 594| 1088|   4.5|  4.397683|\n",
      "| 307| 1088|   3.0| 2.6184635|\n",
      "| 555| 1088|   4.0|  4.060862|\n",
      "|  84| 1088|   3.0|  3.715888|\n",
      "+----+-----+------+----------+\n",
      "only showing top 20 rows\n",
      "\n"
     ]
    }
   ],
   "source": [
    "predictions.show()"
   ]
  },
  {
   "cell_type": "code",
   "execution_count": 80,
   "metadata": {},
   "outputs": [],
   "source": [
    "# param_grid = ParamGridBuilder()                \\\n",
    "#     .addGrid(als.rank    , [12, 13, 14])       \\\n",
    "#     .addGrid(als.maxIter , [18, 19, 20])       \\\n",
    "#     .addGrid(als.regParam, [0.17, 0.18, 0.19]) \\\n",
    "#     .build()\n",
    "\n",
    "param_grid = ParamGridBuilder()                \\\n",
    "    .addGrid(als.regParam, [0.17, 0.18, 0.19]) \\\n",
    "    .build()\n",
    "\n",
    "evaluator = RegressionEvaluator(metricName='rmse', labelCol='rating', predictionCol='prediction')\n",
    "\n",
    "tvs = TrainValidationSplit(\n",
    "    estimator = als,\n",
    "    estimatorParamMaps = param_grid,\n",
    "    evaluator = evaluator,\n",
    ")\n",
    "\n",
    "# als = als.fit(train)\n",
    "# predictions = als.transform(test)\n",
    "\n",
    "model = tvs.fit(train)"
   ]
  },
  {
   "cell_type": "code",
   "execution_count": null,
   "metadata": {},
   "outputs": [],
   "source": []
  },
  {
   "cell_type": "code",
   "execution_count": 81,
   "metadata": {},
   "outputs": [
    {
     "ename": "Py4JError",
     "evalue": "An error occurred while calling o10954.getRegParam. Trace:\npy4j.Py4JException: Method getRegParam([]) does not exist\n\tat py4j.reflection.ReflectionEngine.getMethod(ReflectionEngine.java:318)\n\tat py4j.reflection.ReflectionEngine.getMethod(ReflectionEngine.java:326)\n\tat py4j.Gateway.invoke(Gateway.java:274)\n\tat py4j.commands.AbstractCommand.invokeMethod(AbstractCommand.java:132)\n\tat py4j.commands.CallCommand.execute(CallCommand.java:79)\n\tat py4j.GatewayConnection.run(GatewayConnection.java:238)\n\tat java.lang.Thread.run(Thread.java:748)\n\n",
     "output_type": "error",
     "traceback": [
      "\u001b[0;31m---------------------------------------------------------------------------\u001b[0m",
      "\u001b[0;31mPy4JError\u001b[0m                                 Traceback (most recent call last)",
      "\u001b[0;32m<ipython-input-81-b5fbe1d67a7e>\u001b[0m in \u001b[0;36m<module>\u001b[0;34m\u001b[0m\n\u001b[0;32m----> 1\u001b[0;31m \u001b[0mmodel\u001b[0m\u001b[0;34m.\u001b[0m\u001b[0mbestModel\u001b[0m\u001b[0;34m.\u001b[0m\u001b[0m_java_obj\u001b[0m\u001b[0;34m.\u001b[0m\u001b[0mgetRegParam\u001b[0m\u001b[0;34m(\u001b[0m\u001b[0;34m)\u001b[0m\u001b[0;34m\u001b[0m\u001b[0;34m\u001b[0m\u001b[0m\n\u001b[0m",
      "\u001b[0;32m/usr/local/spark/python/lib/py4j-0.10.7-src.zip/py4j/java_gateway.py\u001b[0m in \u001b[0;36m__call__\u001b[0;34m(self, *args)\u001b[0m\n\u001b[1;32m   1255\u001b[0m         \u001b[0manswer\u001b[0m \u001b[0;34m=\u001b[0m \u001b[0mself\u001b[0m\u001b[0;34m.\u001b[0m\u001b[0mgateway_client\u001b[0m\u001b[0;34m.\u001b[0m\u001b[0msend_command\u001b[0m\u001b[0;34m(\u001b[0m\u001b[0mcommand\u001b[0m\u001b[0;34m)\u001b[0m\u001b[0;34m\u001b[0m\u001b[0;34m\u001b[0m\u001b[0m\n\u001b[1;32m   1256\u001b[0m         return_value = get_return_value(\n\u001b[0;32m-> 1257\u001b[0;31m             answer, self.gateway_client, self.target_id, self.name)\n\u001b[0m\u001b[1;32m   1258\u001b[0m \u001b[0;34m\u001b[0m\u001b[0m\n\u001b[1;32m   1259\u001b[0m         \u001b[0;32mfor\u001b[0m \u001b[0mtemp_arg\u001b[0m \u001b[0;32min\u001b[0m \u001b[0mtemp_args\u001b[0m\u001b[0;34m:\u001b[0m\u001b[0;34m\u001b[0m\u001b[0;34m\u001b[0m\u001b[0m\n",
      "\u001b[0;32m/usr/local/spark/python/pyspark/sql/utils.py\u001b[0m in \u001b[0;36mdeco\u001b[0;34m(*a, **kw)\u001b[0m\n\u001b[1;32m     61\u001b[0m     \u001b[0;32mdef\u001b[0m \u001b[0mdeco\u001b[0m\u001b[0;34m(\u001b[0m\u001b[0;34m*\u001b[0m\u001b[0ma\u001b[0m\u001b[0;34m,\u001b[0m \u001b[0;34m**\u001b[0m\u001b[0mkw\u001b[0m\u001b[0;34m)\u001b[0m\u001b[0;34m:\u001b[0m\u001b[0;34m\u001b[0m\u001b[0;34m\u001b[0m\u001b[0m\n\u001b[1;32m     62\u001b[0m         \u001b[0;32mtry\u001b[0m\u001b[0;34m:\u001b[0m\u001b[0;34m\u001b[0m\u001b[0;34m\u001b[0m\u001b[0m\n\u001b[0;32m---> 63\u001b[0;31m             \u001b[0;32mreturn\u001b[0m \u001b[0mf\u001b[0m\u001b[0;34m(\u001b[0m\u001b[0;34m*\u001b[0m\u001b[0ma\u001b[0m\u001b[0;34m,\u001b[0m \u001b[0;34m**\u001b[0m\u001b[0mkw\u001b[0m\u001b[0;34m)\u001b[0m\u001b[0;34m\u001b[0m\u001b[0;34m\u001b[0m\u001b[0m\n\u001b[0m\u001b[1;32m     64\u001b[0m         \u001b[0;32mexcept\u001b[0m \u001b[0mpy4j\u001b[0m\u001b[0;34m.\u001b[0m\u001b[0mprotocol\u001b[0m\u001b[0;34m.\u001b[0m\u001b[0mPy4JJavaError\u001b[0m \u001b[0;32mas\u001b[0m \u001b[0me\u001b[0m\u001b[0;34m:\u001b[0m\u001b[0;34m\u001b[0m\u001b[0;34m\u001b[0m\u001b[0m\n\u001b[1;32m     65\u001b[0m             \u001b[0ms\u001b[0m \u001b[0;34m=\u001b[0m \u001b[0me\u001b[0m\u001b[0;34m.\u001b[0m\u001b[0mjava_exception\u001b[0m\u001b[0;34m.\u001b[0m\u001b[0mtoString\u001b[0m\u001b[0;34m(\u001b[0m\u001b[0;34m)\u001b[0m\u001b[0;34m\u001b[0m\u001b[0;34m\u001b[0m\u001b[0m\n",
      "\u001b[0;32m/usr/local/spark/python/lib/py4j-0.10.7-src.zip/py4j/protocol.py\u001b[0m in \u001b[0;36mget_return_value\u001b[0;34m(answer, gateway_client, target_id, name)\u001b[0m\n\u001b[1;32m    330\u001b[0m                 raise Py4JError(\n\u001b[1;32m    331\u001b[0m                     \u001b[0;34m\"An error occurred while calling {0}{1}{2}. Trace:\\n{3}\\n\"\u001b[0m\u001b[0;34m.\u001b[0m\u001b[0;34m\u001b[0m\u001b[0;34m\u001b[0m\u001b[0m\n\u001b[0;32m--> 332\u001b[0;31m                     format(target_id, \".\", name, value))\n\u001b[0m\u001b[1;32m    333\u001b[0m         \u001b[0;32melse\u001b[0m\u001b[0;34m:\u001b[0m\u001b[0;34m\u001b[0m\u001b[0;34m\u001b[0m\u001b[0m\n\u001b[1;32m    334\u001b[0m             raise Py4JError(\n",
      "\u001b[0;31mPy4JError\u001b[0m: An error occurred while calling o10954.getRegParam. Trace:\npy4j.Py4JException: Method getRegParam([]) does not exist\n\tat py4j.reflection.ReflectionEngine.getMethod(ReflectionEngine.java:318)\n\tat py4j.reflection.ReflectionEngine.getMethod(ReflectionEngine.java:326)\n\tat py4j.Gateway.invoke(Gateway.java:274)\n\tat py4j.commands.AbstractCommand.invokeMethod(AbstractCommand.java:132)\n\tat py4j.commands.CallCommand.execute(CallCommand.java:79)\n\tat py4j.GatewayConnection.run(GatewayConnection.java:238)\n\tat java.lang.Thread.run(Thread.java:748)\n\n"
     ]
    }
   ],
   "source": [
    "model.bestModel._java_obj.getRegParam()"
   ]
  },
  {
   "cell_type": "code",
   "execution_count": 175,
   "metadata": {},
   "outputs": [
    {
     "name": "stdout",
     "output_type": "stream",
     "text": [
      "+----+-----+------+----------+\n",
      "|user|movie|rating|prediction|\n",
      "+----+-----+------+----------+\n",
      "| 385|  471|   4.0|   2.93489|\n",
      "| 409|  471|   3.0|  3.077252|\n",
      "| 603|  471|   4.0| 3.0750933|\n",
      "| 217|  471|   2.0|  2.787536|\n",
      "| 136|  471|   4.0|  3.285202|\n",
      "| 312|  471|   4.0| 3.3235111|\n",
      "| 469|  471|   5.0|  3.222679|\n",
      "| 414|  471|   5.0| 3.2579014|\n",
      "| 599|  833|   1.5| 1.4564191|\n",
      "|  47| 1088|   4.0|  2.829047|\n",
      "| 286| 1088|   3.5| 3.3061342|\n",
      "| 583| 1088|   3.5| 3.0647972|\n",
      "| 594| 1088|   4.5| 3.9059892|\n",
      "| 200| 1088|   4.0| 3.4481456|\n",
      "| 268| 1238|   5.0| 3.6116018|\n",
      "| 216| 1238|   5.0|  3.741756|\n",
      "| 425| 1342|   3.5|  2.311179|\n",
      "| 597| 1580|   3.0|  3.529313|\n",
      "| 368| 1580|   3.0| 2.8676233|\n",
      "| 115| 1580|   4.0| 3.6886482|\n",
      "+----+-----+------+----------+\n",
      "only showing top 20 rows\n",
      "\n"
     ]
    }
   ],
   "source": [
    "predictions.show()"
   ]
  },
  {
   "cell_type": "code",
   "execution_count": 223,
   "metadata": {},
   "outputs": [],
   "source": [
    "from itertools import islice"
   ]
  },
  {
   "cell_type": "code",
   "execution_count": 274,
   "metadata": {},
   "outputs": [
    {
     "data": {
      "text/plain": [
       "(0, 1)"
      ]
     },
     "execution_count": 274,
     "metadata": {},
     "output_type": "execute_result"
    }
   ],
   "source": [
    "def get_tasks(it, size):\n",
    "    it = iter(it)\n",
    "    while 1:\n",
    "        x = tuple(islice(it, chunksize))\n",
    "        if not x:\n",
    "            return\n",
    "        yield x\n",
    "\n",
    "\n",
    "n_threads = 14\n",
    "iterable  = range(100)\n",
    "\n",
    "\n",
    "# chunksize = 13\n",
    "\n",
    "chunksize, extra = divmod(len(iterable), n_threads * 4)\n",
    "if extra:\n",
    "    chunksize += 1\n",
    "\n",
    "\n",
    "# tuple(get_tasks(iterable, chunksize))\n",
    "next(get_tasks(iterable, chunksize))"
   ]
  },
  {
   "cell_type": "code",
   "execution_count": 241,
   "metadata": {},
   "outputs": [],
   "source": [
    "# iterable\n",
    "x = tuple(islice(it, chunksize))"
   ]
  },
  {
   "cell_type": "code",
   "execution_count": 221,
   "metadata": {},
   "outputs": [
    {
     "data": {
      "text/plain": [
       "(4, 2)"
      ]
     },
     "execution_count": 221,
     "metadata": {},
     "output_type": "execute_result"
    }
   ],
   "source": [
    "# divmod(14, 3)"
   ]
  },
  {
   "cell_type": "code",
   "execution_count": 277,
   "metadata": {},
   "outputs": [],
   "source": [
    "import matplotlib.pyplot as plt\n",
    "import numpy as np\n",
    "\n",
    "rating_pred = predictions.rdd.map(lambda x: x.prediction).collect()\n",
    "rating_true = predictions.rdd.map(lambda x: x.rating    ).collect()"
   ]
  },
  {
   "cell_type": "code",
   "execution_count": 278,
   "metadata": {
    "scrolled": true
   },
   "outputs": [
    {
     "data": {
      "text/plain": [
       "<matplotlib.legend.Legend at 0x7f2622fe44a8>"
      ]
     },
     "execution_count": 278,
     "metadata": {},
     "output_type": "execute_result"
    },
    {
     "data": {
      "image/png": "[encoded data removed]",
      "text/plain": [
       "<Figure size 504x360 with 1 Axes>"
      ]
     },
     "metadata": {
      "needs_background": "light"
     },
     "output_type": "display_data"
    }
   ],
   "source": [
    "error = np.array(rating_pred) - np.array(rating_true)\n",
    "mean = error.mean()\n",
    "std  = error.std() \n",
    "\n",
    "plt.figure(figsize=(7, 5))\n",
    "plt.plot(error, label='error = rating_pred - rating_true')\n",
    "plt.axhline(mean      , color='r')\n",
    "plt.axhline(mean - std, color='r')\n",
    "plt.axhline(mean + std, color='r')\n",
    "plt.legend(loc=1)"
   ]
  },
  {
   "cell_type": "code",
   "execution_count": 288,
   "metadata": {},
   "outputs": [
    {
     "data": {
      "text/plain": [
       "<matplotlib.legend.Legend at 0x7f2622ae2ef0>"
      ]
     },
     "execution_count": 288,
     "metadata": {},
     "output_type": "execute_result"
    },
    {
     "data": {
      "image/png": "[encoded data removed]",
      "text/plain": [
       "<Figure size 504x360 with 1 Axes>"
      ]
     },
     "metadata": {
      "needs_background": "light"
     },
     "output_type": "display_data"
    }
   ],
   "source": [
    "plt.figure(figsize=(7, 5))\n",
    "plt.hist(np.abs(error), bins=50, label='error = rating_pred - rating_true')\n",
    "# plt.axvline(x=mean, color='red')\n",
    "plt.legend(loc=1)"
   ]
  },
  {
   "cell_type": "code",
   "execution_count": 43,
   "metadata": {},
   "outputs": [
    {
     "data": {
      "text/plain": [
       "0.8801540656601989"
      ]
     },
     "execution_count": 43,
     "metadata": {},
     "output_type": "execute_result"
    }
   ],
   "source": [
    "rmse = evaluator.evaluate(predictions)\n",
    "rmse"
   ]
  },
  {
   "cell_type": "raw",
   "metadata": {},
   "source": [
    "model = tvs.fit(train)\n",
    "best_model = model.bestModel"
   ]
  },
  {
   "cell_type": "code",
   "execution_count": null,
   "metadata": {},
   "outputs": [],
   "source": [
    "predictions = best_model.transform(test)\n",
    "rmse = evaluator.evaluate(predictions)"
   ]
  },
  {
   "cell_type": "code",
   "execution_count": null,
   "metadata": {},
   "outputs": [],
   "source": [
    "print(rmse)\n",
    "print(best_model)"
   ]
  },
  {
   "cell_type": "code",
   "execution_count": null,
   "metadata": {},
   "outputs": [],
   "source": [
    "display(predictions.sort('user', 'rating')) # long running"
   ]
  },
  {
   "cell_type": "code",
   "execution_count": null,
   "metadata": {},
   "outputs": [],
   "source": [
    "best_model.recommendForAllUsers(10).show() # Returns top numItems items recommended for each user, for all users."
   ]
  },
  {
   "cell_type": "code",
   "execution_count": 171,
   "metadata": {},
   "outputs": [],
   "source": [
    "from itertools import product\n",
    "from functools import reduce\n",
    "from operator import mul"
   ]
  },
  {
   "cell_type": "code",
   "execution_count": 141,
   "metadata": {},
   "outputs": [],
   "source": [
    "param_fixed = {\n",
    "    'userCol'          : 'user', \n",
    "    'itemCol'          : 'movie', \n",
    "    'ratingCol'        : 'rating', \n",
    "    'coldStartStrategy': 'drop', \n",
    "    'nonnegative'      : True,\n",
    "}\n",
    "\n",
    "param_grid = {\n",
    "    'rank'    : range(4, 12),\n",
    "    'maxIter' : range(2, 20, 2),\n",
    "    'regParam': list(np.linspace(0.001, 0.4, 10)),\n",
    "}\n",
    "\n",
    "pgrid = [\n",
    "    dict(zip(param_grid.keys(), param_comb))\n",
    "    for param_comb in product(*param_grid.values())\n",
    "]\n",
    "\n",
    "# random search instead of grid search\n",
    "from random import sample\n",
    "pgrid = sample(pgrid, 100)"
   ]
  },
  {
   "cell_type": "code",
   "execution_count": 281,
   "metadata": {},
   "outputs": [],
   "source": []
  },
  {
   "cell_type": "code",
   "execution_count": 198,
   "metadata": {},
   "outputs": [],
   "source": [
    "def evaluate_params(params, model_class, param_fixed, evaluator, train, test):\n",
    "    model = model_class(**params, **param_fixed)\n",
    "    predictions = model.fit(train).transform(test)\n",
    "    score = evaluator.evaluate(predictions)\n",
    "    return (params, score)\n",
    "\n",
    "def evaluate_als(params):\n",
    "    return evaluate_params(\n",
    "        params      = params     ,\n",
    "        model_class = ALS        ,\n",
    "        param_fixed = param_fixed,\n",
    "        evaluator   = evaluator  ,\n",
    "        train       = train      ,\n",
    "        test        = test       ,\n",
    "    )\n",
    "\n",
    "evaluator = RegressionEvaluator(metricName='rmse', labelCol='rating', predictionCol='prediction')"
   ]
  },
  {
   "cell_type": "code",
   "execution_count": 199,
   "metadata": {},
   "outputs": [
    {
     "data": {
      "text/plain": [
       "[({'rank': 12, 'maxIter': 18, 'regParam': 0.17}, 0.8711000557482949),\n",
       " ({'rank': 12, 'maxIter': 18, 'regParam': 0.18}, 0.8731955632805787),\n",
       " ({'rank': 12, 'maxIter': 19, 'regParam': 0.17}, 0.8710468537284971),\n",
       " ({'rank': 12, 'maxIter': 19, 'regParam': 0.18}, 0.8731289229116812),\n",
       " ({'rank': 12, 'maxIter': 20, 'regParam': 0.17}, 0.8710057264784588),\n",
       " ({'rank': 12, 'maxIter': 20, 'regParam': 0.18}, 0.8730794140756192),\n",
       " ({'rank': 13, 'maxIter': 18, 'regParam': 0.17}, 0.8713988816982454),\n",
       " ({'rank': 13, 'maxIter': 18, 'regParam': 0.18}, 0.8734167332991808),\n",
       " ({'rank': 13, 'maxIter': 19, 'regParam': 0.17}, 0.8713104322095913),\n",
       " ({'rank': 13, 'maxIter': 19, 'regParam': 0.18}, 0.873324220254373),\n",
       " ({'rank': 13, 'maxIter': 20, 'regParam': 0.17}, 0.8712372448280907),\n",
       " ({'rank': 13, 'maxIter': 20, 'regParam': 0.18}, 0.8732489625789159),\n",
       " ({'rank': 14, 'maxIter': 18, 'regParam': 0.17}, 0.8719114439480629),\n",
       " ({'rank': 14, 'maxIter': 18, 'regParam': 0.18}, 0.8738797921484736),\n",
       " ({'rank': 14, 'maxIter': 19, 'regParam': 0.17}, 0.8718465926505644),\n",
       " ({'rank': 14, 'maxIter': 19, 'regParam': 0.18}, 0.8738060447816607),\n",
       " ({'rank': 14, 'maxIter': 20, 'regParam': 0.17}, 0.8717956753276085),\n",
       " ({'rank': 14, 'maxIter': 20, 'regParam': 0.18}, 0.8737476010399761)]"
      ]
     },
     "execution_count": 199,
     "metadata": {},
     "output_type": "execute_result"
    }
   ],
   "source": [
    "from multiprocessing.dummy import Pool # dummy means threads, not real processes\n",
    "\n",
    "pool = Pool(processes=len(pgrid))\n",
    "z = pool.map(evaluate_als, pgrid)\n",
    "z"
   ]
  },
  {
   "cell_type": "code",
   "execution_count": null,
   "metadata": {},
   "outputs": [],
   "source": []
  },
  {
   "cell_type": "code",
   "execution_count": null,
   "metadata": {},
   "outputs": [],
   "source": []
  }
 ],
 "metadata": {
  "kernelspec": {
   "display_name": "Python 3",
   "language": "python",
   "name": "python3"
  },
  "language_info": {
   "codemirror_mode": {
    "name": "ipython",
    "version": 3
   },
   "file_extension": ".py",
   "mimetype": "text/x-python",
   "name": "python",
   "nbconvert_exporter": "python",
   "pygments_lexer": "ipython3",
   "version": "3.6.7"
  }
 },
 "nbformat": 4,
 "nbformat_minor": 2
}
