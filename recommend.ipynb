{
 "cells": [
  {
   "cell_type": "code",
   "execution_count": 13,
   "metadata": {},
   "outputs": [],
   "source": [
    "import os\n",
    "os.environ['PYSPARK_PYTHON']        = '/usr/local/bin/python3'\n",
    "os.environ['PYSPARK_DRIVER_PYTHON'] = '/usr/local/bin/python3'\n",
    "os.environ['JAVA_HOME']             = '/Library/Java/JavaVirtualMachines/jdk1.8.0_181.jdk/Contents/Home' # Java 10 is problematic"
   ]
  },
  {
   "cell_type": "code",
   "execution_count": 14,
   "metadata": {},
   "outputs": [],
   "source": [
    "from pyspark.sql import SparkSession\n",
    "spark = SparkSession.builder.getOrCreate()\n",
    "spark.sparkContext.setCheckpointDir('checkpoint/') # https://stackoverflow.com/a/31484461"
   ]
  },
  {
   "cell_type": "code",
   "execution_count": 15,
   "metadata": {},
   "outputs": [],
   "source": [
    "from pyspark.ml.recommendation import ALS\n",
    "import pyspark.sql.functions as F"
   ]
  },
  {
   "cell_type": "code",
   "execution_count": 16,
   "metadata": {},
   "outputs": [],
   "source": [
    "from helpers import make\n",
    "# from helpers_my import make"
   ]
  },
  {
   "cell_type": "code",
   "execution_count": 17,
   "metadata": {},
   "outputs": [
    {
     "name": "stdout",
     "output_type": "stream",
     "text": [
      "+----+-----+------+\n",
      "|user|movie|rating|\n",
      "+----+-----+------+\n",
      "|   1|    1|   4.0|\n",
      "|   1|    3|   4.0|\n",
      "|   1|    6|   4.0|\n",
      "|   1|   47|   5.0|\n",
      "|   1|   50|   5.0|\n",
      "|   1|   70|   3.0|\n",
      "|   1|  101|   5.0|\n",
      "|   1|  110|   4.0|\n",
      "|   1|  151|   5.0|\n",
      "|   1|  157|   5.0|\n",
      "+----+-----+------+\n",
      "only showing top 10 rows\n",
      "\n",
      "+-----+--------------------+--------------------+\n",
      "|movie|               title|              genres|\n",
      "+-----+--------------------+--------------------+\n",
      "|    1|    Toy Story (1995)|Adventure|Animati...|\n",
      "|    2|      Jumanji (1995)|Adventure|Childre...|\n",
      "|    3|Grumpier Old Men ...|      Comedy|Romance|\n",
      "|    4|Waiting to Exhale...|Comedy|Drama|Romance|\n",
      "|    5|Father of the Bri...|              Comedy|\n",
      "|    6|         Heat (1995)|Action|Crime|Thri...|\n",
      "|    7|      Sabrina (1995)|      Comedy|Romance|\n",
      "|    8| Tom and Huck (1995)|  Adventure|Children|\n",
      "|    9| Sudden Death (1995)|              Action|\n",
      "|   10|    GoldenEye (1995)|Action|Adventure|...|\n",
      "+-----+--------------------+--------------------+\n",
      "only showing top 10 rows\n",
      "\n"
     ]
    }
   ],
   "source": [
    "ratings, movies = make('ratings', 'movies', spark=spark)\n",
    "ratings.show(10)\n",
    "movies.show(10)"
   ]
  },
  {
   "cell_type": "code",
   "execution_count": 18,
   "metadata": {},
   "outputs": [],
   "source": [
    "param_fixed = {\n",
    "    'userCol'          : 'user'  , \n",
    "    'itemCol'          : 'movie' ,\n",
    "    'ratingCol'        : 'rating',\n",
    "    'coldStartStrategy': 'drop'  ,\n",
    "    'nonnegative'      : True    ,\n",
    "    'implicitPrefs'    : True    ,\n",
    "    'maxIter'          : 20      ,\n",
    "}\n",
    "\n",
    "# some params: (see params tuning, CV in param-tuning.ipynb)\n",
    "best_params = {'rank': 7, 'regParam': 0.18, 'alpha': 1.0}\n",
    "als = ALS(**best_params, **param_fixed).fit(ratings)"
   ]
  },
  {
   "cell_type": "code",
   "execution_count": 23,
   "metadata": {},
   "outputs": [
    {
     "name": "stdout",
     "output_type": "stream",
     "text": [
      "+-----+----+------+-------------------------+-------------------------+\n",
      "|movie|user|rating|                    title|                   genres|\n",
      "+-----+----+------+-------------------------+-------------------------+\n",
      "|   10|  34|   5.0|         GoldenEye (1995)|Action|Adventure|Thriller|\n",
      "| 5349|  34|   5.0|        Spider-Man (2002)|Action|Adventure|Sci-F...|\n",
      "| 3996|  34|   5.0|Crouching Tiger, Hidde...|     Action|Drama|Romance|\n",
      "| 2273|  34|   5.0|         Rush Hour (1998)|Action|Comedy|Crime|Th...|\n",
      "| 6874|  34|   5.0| Kill Bill: Vol. 1 (2003)|    Action|Crime|Thriller|\n",
      "| 8636|  34|   5.0|      Spider-Man 2 (2004)|Action|Adventure|Sci-F...|\n",
      "|27801|  34|   5.0|Ong-Bak: The Thai Warr...|          Action|Thriller|\n",
      "|45499|  34|   5.0|X-Men: The Last Stand ...|   Action|Sci-Fi|Thriller|\n",
      "| 6333|  34|   5.0|  X2: X-Men United (2003)|Action|Adventure|Sci-F...|\n",
      "| 6539|  34|   5.0|Pirates of the Caribbe...|Action|Adventure|Comed...|\n",
      "| 3793|  34|   5.0|             X-Men (2000)|  Action|Adventure|Sci-Fi|\n",
      "| 6618|  34|   5.0|Shaolin Soccer (Siu la...|            Action|Comedy|\n",
      "| 6711|  34|   5.0|Lost in Translation (2...|     Comedy|Drama|Romance|\n",
      "| 4446|  34|   5.0|Final Fantasy: The Spi...|Adventure|Animation|Fa...|\n",
      "| 4226|  34|   4.5|           Memento (2000)|         Mystery|Thriller|\n",
      "| 4367|  34|   4.5|Lara Croft: Tomb Raide...|         Action|Adventure|\n",
      "| 2443|  34|   4.5|  Playing by Heart (1998)|            Drama|Romance|\n",
      "| 6378|  34|   4.5|  Italian Job, The (2003)|             Action|Crime|\n",
      "|  377|  34|   4.5|             Speed (1994)|  Action|Romance|Thriller|\n",
      "| 6387|  34|   4.5|Once a Thief (Zong hen...|Action|Comedy|Crime|Th...|\n",
      "+-----+----+------+-------------------------+-------------------------+\n",
      "only showing top 20 rows\n",
      "\n"
     ]
    }
   ],
   "source": [
    "user = 34\n",
    "# user = 2177929\n",
    "\n",
    "user_history = ratings[ratings.user == user] \\\n",
    "    .join(movies, on='movie')                \\\n",
    "    .orderBy('rating', ascending=False)\n",
    "\n",
    "user_history.show(truncate=25)"
   ]
  },
  {
   "cell_type": "code",
   "execution_count": 24,
   "metadata": {},
   "outputs": [],
   "source": [
    "def recommend(als_model, user, user_history, n_movies=10):\n",
    "    \n",
    "    # # recommendForAllUsers API\n",
    "    # r = als.recommendForAllUsers(numItems=30)\n",
    "    # r = r[r.user == user]\n",
    "    \n",
    "    # recommendForUserSubset API (pyspark 2.3+)\n",
    "    r = als_model.recommendForUserSubset(\n",
    "        dataset = spark.createDataFrame(\n",
    "            data   = [[user]], \n",
    "            schema = ['user']\n",
    "        ), \n",
    "        numItems = n_movies\n",
    "    )\n",
    "\n",
    "    r_exp = r.withColumn('recommendations', F.explode(r.recommendations))\n",
    "    return r_exp.select(\n",
    "        r_exp.user,\n",
    "        r_exp.recommendations.movie.alias('movie'),\n",
    "        r_exp.recommendations.rating.alias('rating_prediction'),\n",
    "    )\n",
    "\n",
    "    useless_recs = user_recs \\\n",
    "        .join(user_history, on='movie') \\\n",
    "        .select(user_recs.user, user_recs.movie, user_recs.rating_prediction)\n",
    "    return user_recs.subtract(useless_recs)"
   ]
  },
  {
   "cell_type": "code",
   "execution_count": 25,
   "metadata": {},
   "outputs": [],
   "source": [
    "user_recs = recommend(als_model=als, user=user, user_history=user_history, n_movies=30)"
   ]
  },
  {
   "cell_type": "code",
   "execution_count": 26,
   "metadata": {},
   "outputs": [
    {
     "name": "stdout",
     "output_type": "stream",
     "text": [
      "+-----+----+-----------------+-------------------------+-------------------------+\n",
      "|movie|user|rating_prediction|                    title|                   genres|\n",
      "+-----+----+-----------------+-------------------------+-------------------------+\n",
      "| 4993|  34|        0.5404797|Lord of the Rings: The...|        Adventure|Fantasy|\n",
      "| 5445|  34|       0.53983843|   Minority Report (2002)|Action|Crime|Mystery|S...|\n",
      "| 6874|  34|        0.5381136| Kill Bill: Vol. 1 (2003)|    Action|Crime|Thriller|\n",
      "| 5952|  34|       0.53787386|Lord of the Rings: The...|        Adventure|Fantasy|\n",
      "| 5418|  34|       0.53430873|Bourne Identity, The (...|  Action|Mystery|Thriller|\n",
      "| 7153|  34|       0.53185725|Lord of the Rings: The...|Action|Adventure|Drama...|\n",
      "| 6539|  34|        0.5316936|Pirates of the Caribbe...|Action|Adventure|Comed...|\n",
      "| 5989|  34|        0.5278688|Catch Me If You Can (2...|              Crime|Drama|\n",
      "| 4306|  34|       0.52497464|             Shrek (2001)|Adventure|Animation|Ch...|\n",
      "| 2959|  34|       0.52388614|        Fight Club (1999)|Action|Crime|Drama|Thr...|\n",
      "| 4963|  34|       0.52116966|    Ocean's Eleven (2001)|           Crime|Thriller|\n",
      "| 7438|  34|        0.5192115| Kill Bill: Vol. 2 (2004)|    Action|Drama|Thriller|\n",
      "| 7361|  34|        0.5173688|Eternal Sunshine of th...|     Drama|Romance|Sci-Fi|\n",
      "| 5349|  34|       0.51618636|        Spider-Man (2002)|Action|Adventure|Sci-F...|\n",
      "| 3578|  34|         0.512325|         Gladiator (2000)|   Action|Adventure|Drama|\n",
      "| 2571|  34|        0.5119489|       Matrix, The (1999)|   Action|Sci-Fi|Thriller|\n",
      "| 4022|  34|        0.5104865|         Cast Away (2000)|                    Drama|\n",
      "| 6365|  34|        0.5060023|Matrix Reloaded, The (...|Action|Adventure|Sci-F...|\n",
      "| 4226|  34|       0.50543076|           Memento (2000)|         Mystery|Thriller|\n",
      "| 2329|  34|       0.50246173|American History X (1998)|              Crime|Drama|\n",
      "+-----+----+-----------------+-------------------------+-------------------------+\n",
      "only showing top 20 rows\n",
      "\n"
     ]
    }
   ],
   "source": [
    "user_recs.join(movies, on='movie').show(truncate=25)"
   ]
  }
 ],
 "metadata": {
  "kernelspec": {
   "display_name": "Python 3",
   "language": "python",
   "name": "python3"
  },
  "language_info": {
   "codemirror_mode": {
    "name": "ipython",
    "version": 3
   },
   "file_extension": ".py",
   "mimetype": "text/x-python",
   "name": "python",
   "nbconvert_exporter": "python",
   "pygments_lexer": "ipython3",
   "version": "3.7.1"
  }
 },
 "nbformat": 4,
 "nbformat_minor": 2
}
