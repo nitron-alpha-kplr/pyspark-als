{
 "cells": [
  {
   "cell_type": "code",
   "execution_count": 1,
   "metadata": {},
   "outputs": [],
   "source": [
    "from pyspark.sql import SparkSession\n",
    "spark = SparkSession.builder.getOrCreate()\n",
    "spark.sparkContext.setCheckpointDir('checkpoint/') # https://stackoverflow.com/a/31484461"
   ]
  },
  {
   "cell_type": "code",
   "execution_count": null,
   "metadata": {},
   "outputs": [],
   "source": [
    "!wget http://files.grouplens.org/datasets/movielens/ml-latest-small.zip\n",
    "!unzip ml-latest-small.zip"
   ]
  },
  {
   "cell_type": "code",
   "execution_count": 2,
   "metadata": {},
   "outputs": [
    {
     "name": "stdout",
     "output_type": "stream",
     "text": [
      "userId,movieId,rating,timestamp\r",
      "\r\n",
      "1,1,4.0,964982703\r",
      "\r\n",
      "1,3,4.0,964981247\r",
      "\r\n",
      "1,6,4.0,964982224\r",
      "\r\n",
      "1,47,5.0,964983815\r",
      "\r\n",
      "1,50,5.0,964982931\r",
      "\r\n",
      "1,70,3.0,964982400\r",
      "\r\n",
      "1,101,5.0,964980868\r",
      "\r\n",
      "1,110,4.0,964982176\r",
      "\r\n",
      "1,151,5.0,964984041\r",
      "\r\n"
     ]
    }
   ],
   "source": [
    "!head -10 'ml-latest-small/ratings.csv'"
   ]
  },
  {
   "cell_type": "code",
   "execution_count": 3,
   "metadata": {},
   "outputs": [
    {
     "name": "stdout",
     "output_type": "stream",
     "text": [
      "movieId,title,genres\r",
      "\r\n",
      "1,Toy Story (1995),Adventure|Animation|Children|Comedy|Fantasy\r",
      "\r\n",
      "2,Jumanji (1995),Adventure|Children|Fantasy\r",
      "\r\n",
      "3,Grumpier Old Men (1995),Comedy|Romance\r",
      "\r\n",
      "4,Waiting to Exhale (1995),Comedy|Drama|Romance\r",
      "\r\n",
      "5,Father of the Bride Part II (1995),Comedy\r",
      "\r\n",
      "6,Heat (1995),Action|Crime|Thriller\r",
      "\r\n",
      "7,Sabrina (1995),Comedy|Romance\r",
      "\r\n",
      "8,Tom and Huck (1995),Adventure|Children\r",
      "\r\n",
      "9,Sudden Death (1995),Action\r",
      "\r\n"
     ]
    }
   ],
   "source": [
    "!head -10 'ml-latest-small/movies.csv'"
   ]
  },
  {
   "cell_type": "code",
   "execution_count": 7,
   "metadata": {
    "scrolled": false
   },
   "outputs": [
    {
     "name": "stdout",
     "output_type": "stream",
     "text": [
      "+----+-----+------+\n",
      "|user|movie|rating|\n",
      "+----+-----+------+\n",
      "|   1|    1|   4.0|\n",
      "|   1|    3|   4.0|\n",
      "|   1|    6|   4.0|\n",
      "|   1|   47|   5.0|\n",
      "|   1|   50|   5.0|\n",
      "|   1|   70|   3.0|\n",
      "|   1|  101|   5.0|\n",
      "|   1|  110|   4.0|\n",
      "|   1|  151|   5.0|\n",
      "|   1|  157|   5.0|\n",
      "|   1|  163|   5.0|\n",
      "|   1|  216|   5.0|\n",
      "|   1|  223|   3.0|\n",
      "|   1|  231|   5.0|\n",
      "|   1|  235|   4.0|\n",
      "|   1|  260|   5.0|\n",
      "|   1|  296|   3.0|\n",
      "|   1|  316|   3.0|\n",
      "|   1|  333|   5.0|\n",
      "|   1|  349|   4.0|\n",
      "+----+-----+------+\n",
      "only showing top 20 rows\n",
      "\n",
      "+-----+--------------------+--------------------+\n",
      "|movie|               title|              genres|\n",
      "+-----+--------------------+--------------------+\n",
      "|    1|    Toy Story (1995)|Adventure|Animati...|\n",
      "|    2|      Jumanji (1995)|Adventure|Childre...|\n",
      "|    3|Grumpier Old Men ...|      Comedy|Romance|\n",
      "|    4|Waiting to Exhale...|Comedy|Drama|Romance|\n",
      "|    5|Father of the Bri...|              Comedy|\n",
      "|    6|         Heat (1995)|Action|Crime|Thri...|\n",
      "|    7|      Sabrina (1995)|      Comedy|Romance|\n",
      "|    8| Tom and Huck (1995)|  Adventure|Children|\n",
      "|    9| Sudden Death (1995)|              Action|\n",
      "|   10|    GoldenEye (1995)|Action|Adventure|...|\n",
      "|   11|American Presiden...|Comedy|Drama|Romance|\n",
      "|   12|Dracula: Dead and...|       Comedy|Horror|\n",
      "|   13|        Balto (1995)|Adventure|Animati...|\n",
      "|   14|        Nixon (1995)|               Drama|\n",
      "|   15|Cutthroat Island ...|Action|Adventure|...|\n",
      "|   16|       Casino (1995)|         Crime|Drama|\n",
      "|   17|Sense and Sensibi...|       Drama|Romance|\n",
      "|   18|   Four Rooms (1995)|              Comedy|\n",
      "|   19|Ace Ventura: When...|              Comedy|\n",
      "|   20|  Money Train (1995)|Action|Comedy|Cri...|\n",
      "+-----+--------------------+--------------------+\n",
      "only showing top 20 rows\n",
      "\n"
     ]
    }
   ],
   "source": [
    "from pyspark.ml.recommendation import ALS\n",
    "from pyspark.sql.types import *\n",
    "import pyspark.sql.functions as F\n",
    "\n",
    "\n",
    "ratings_schema = StructType([\n",
    "    StructField('user'     , IntegerType()),\n",
    "    StructField('movie'    , IntegerType()),\n",
    "    StructField('rating'   , DoubleType() ),\n",
    "    StructField('timestamp', LongType()   ),\n",
    "])\n",
    "\n",
    "movies_schema = StructType([\n",
    "    StructField('movie' , IntegerType()),\n",
    "    StructField('title' , StringType ()),\n",
    "    StructField('genres', StringType ()),\n",
    "])\n",
    "\n",
    "\n",
    "ratings = spark.read.csv('ml-latest-small/ratings.csv', header=True, schema=ratings_schema).select(['user' , 'movie', 'rating'])\n",
    "movies  = spark.read.csv('ml-latest-small/movies.csv' , header=True, schema=movies_schema ).select(['movie', 'title', 'genres'])\n",
    "\n",
    "ratings.show()\n",
    "movies.show()"
   ]
  },
  {
   "cell_type": "code",
   "execution_count": 8,
   "metadata": {
    "scrolled": false
   },
   "outputs": [],
   "source": [
    "param_fixed = {\n",
    "    'userCol'          : 'user', \n",
    "    'itemCol'          : 'movie', \n",
    "    'ratingCol'        : 'rating', \n",
    "    'coldStartStrategy': 'drop', \n",
    "    'implicitPrefs'    : True,\n",
    "    'nonnegative'      : True,\n",
    "}\n",
    "\n",
    "# params tuning, CV are in other file\n",
    "# some params:\n",
    "best_params = {'rank': 7, 'maxIter': 20, 'regParam': 0.18, 'alpha': 1.0}\n",
    "als = ALS(**best_params, **param_fixed).fit(ratings)"
   ]
  },
  {
   "cell_type": "code",
   "execution_count": 9,
   "metadata": {},
   "outputs": [],
   "source": [
    "def prettify_watched(user, movies_df, ratings_df):\n",
    "    ur = ratings_df[ratings_df.user == user]\n",
    "    return ur.join(movies_df, 'movie') \\\n",
    "        .select(\n",
    "            ur.user,\n",
    "            ur.rating,\n",
    "            ur.movie,\n",
    "            movies_df.title,\n",
    "    ).orderBy('rating', ascending=False)\n",
    "\n",
    "\n",
    "\n",
    "def prettify_recommendation(r, movies_df):\n",
    "    r_explode = r.withColumn('recommendations', F.explode(r.recommendations))\n",
    "    r1 = r_explode.select(\n",
    "        r_explode.user,\n",
    "        r_explode.recommendations.movie.alias('movie'),\n",
    "        r_explode.recommendations.rating.alias('rating_prediction'),\n",
    "    )\n",
    "    return r1.join(movies_df, 'movie')"
   ]
  },
  {
   "cell_type": "code",
   "execution_count": 11,
   "metadata": {},
   "outputs": [
    {
     "name": "stdout",
     "output_type": "stream",
     "text": [
      "+----+------+-----+-------------------------+\n",
      "|user|rating|movie|                    title|\n",
      "+----+------+-----+-------------------------+\n",
      "|  34|   5.0|   10|         GoldenEye (1995)|\n",
      "|  34|   5.0| 5349|        Spider-Man (2002)|\n",
      "|  34|   5.0| 3996|Crouching Tiger, Hidde...|\n",
      "|  34|   5.0| 2273|         Rush Hour (1998)|\n",
      "|  34|   5.0| 6874| Kill Bill: Vol. 1 (2003)|\n",
      "|  34|   5.0| 8636|      Spider-Man 2 (2004)|\n",
      "|  34|   5.0|27801|Ong-Bak: The Thai Warr...|\n",
      "|  34|   5.0|45499|X-Men: The Last Stand ...|\n",
      "|  34|   5.0| 6333|  X2: X-Men United (2003)|\n",
      "|  34|   5.0| 6539|Pirates of the Caribbe...|\n",
      "|  34|   5.0| 3793|             X-Men (2000)|\n",
      "|  34|   5.0| 6618|Shaolin Soccer (Siu la...|\n",
      "|  34|   5.0| 6711|Lost in Translation (2...|\n",
      "|  34|   5.0| 4446|Final Fantasy: The Spi...|\n",
      "|  34|   4.5| 4226|           Memento (2000)|\n",
      "|  34|   4.5| 4367|Lara Croft: Tomb Raide...|\n",
      "|  34|   4.5| 2443|  Playing by Heart (1998)|\n",
      "|  34|   4.5| 6378|  Italian Job, The (2003)|\n",
      "|  34|   4.5|  377|             Speed (1994)|\n",
      "|  34|   4.5| 6387|Once a Thief (Zong hen...|\n",
      "+----+------+-----+-------------------------+\n",
      "only showing top 20 rows\n",
      "\n"
     ]
    }
   ],
   "source": [
    "user = 34\n",
    "prettify_watched(user=user, movies_df=movies, ratings_df=ratings).show(truncate=25)"
   ]
  },
  {
   "cell_type": "markdown",
   "metadata": {},
   "source": [
    "# `recommendForUserSubset`"
   ]
  },
  {
   "cell_type": "code",
   "execution_count": 12,
   "metadata": {},
   "outputs": [],
   "source": [
    "def recommend(model, user, movies_df, n_movies=10):\n",
    "    return prettify_recommendation(\n",
    "        model.recommendForUserSubset(\n",
    "            dataset = spark.createDataFrame(\n",
    "                data   = [[user]], \n",
    "                schema = ['user']\n",
    "            ), \n",
    "            numItems = n_movies\n",
    "        ),\n",
    "        movies_df\n",
    "    )"
   ]
  },
  {
   "cell_type": "code",
   "execution_count": 13,
   "metadata": {},
   "outputs": [
    {
     "name": "stdout",
     "output_type": "stream",
     "text": [
      "+-----+----+-----------------+-------------------------+-------------------------+\n",
      "|movie|user|rating_prediction|                    title|                   genres|\n",
      "+-----+----+-----------------+-------------------------+-------------------------+\n",
      "| 2571|  34|       0.70229036|       Matrix, The (1999)|   Action|Sci-Fi|Thriller|\n",
      "| 4993|  34|       0.68630916|Lord of the Rings: The...|        Adventure|Fantasy|\n",
      "| 7153|  34|        0.6822522|Lord of the Rings: The...|Action|Adventure|Drama...|\n",
      "| 2959|  34|        0.6780812|        Fight Club (1999)|Action|Crime|Drama|Thr...|\n",
      "| 5952|  34|         0.675501|Lord of the Rings: The...|        Adventure|Fantasy|\n",
      "|58559|  34|        0.6347596|  Dark Knight, The (2008)|  Action|Crime|Drama|IMAX|\n",
      "|  318|  34|        0.6257799|Shawshank Redemption, ...|              Crime|Drama|\n",
      "|79132|  34|         0.620031|         Inception (2010)|Action|Crime|Drama|Mys...|\n",
      "| 4306|  34|        0.6183527|             Shrek (2001)|Adventure|Animation|Ch...|\n",
      "| 6539|  34|       0.60879594|Pirates of the Caribbe...|Action|Adventure|Comed...|\n",
      "| 3578|  34|         0.604305|         Gladiator (2000)|   Action|Adventure|Drama|\n",
      "| 4226|  34|        0.5981834|           Memento (2000)|         Mystery|Thriller|\n",
      "| 7361|  34|        0.5967436|Eternal Sunshine of th...|     Drama|Romance|Sci-Fi|\n",
      "| 6377|  34|        0.5934401|      Finding Nemo (2003)|Adventure|Animation|Ch...|\n",
      "| 2329|  34|        0.5894093|American History X (1998)|              Crime|Drama|\n",
      "|  356|  34|       0.58603513|      Forrest Gump (1994)| Comedy|Drama|Romance|War|\n",
      "| 6874|  34|        0.5797599| Kill Bill: Vol. 1 (2003)|    Action|Crime|Thriller|\n",
      "| 2028|  34|        0.5790169|Saving Private Ryan (1...|         Action|Drama|War|\n",
      "| 8961|  34|         0.577809|  Incredibles, The (2004)|Action|Adventure|Anima...|\n",
      "| 4995|  34|        0.5764368| Beautiful Mind, A (2001)|            Drama|Romance|\n",
      "+-----+----+-----------------+-------------------------+-------------------------+\n",
      "only showing top 20 rows\n",
      "\n"
     ]
    }
   ],
   "source": [
    "recommend(model=als, user=user, n_movies=30, movies_df=movies).show(truncate=25)"
   ]
  },
  {
   "cell_type": "markdown",
   "metadata": {},
   "source": [
    "# `recommendForAllUsers`"
   ]
  },
  {
   "cell_type": "code",
   "execution_count": 14,
   "metadata": {},
   "outputs": [],
   "source": [
    "all_users_recs = prettify_recommendation(\n",
    "    als.recommendForAllUsers(numItems=30),\n",
    "    movies_df=movies\n",
    ")"
   ]
  },
  {
   "cell_type": "code",
   "execution_count": 15,
   "metadata": {},
   "outputs": [
    {
     "name": "stdout",
     "output_type": "stream",
     "text": [
      "+-----+----+-----------------+--------------------+--------------------+\n",
      "|movie|user|rating_prediction|               title|              genres|\n",
      "+-----+----+-----------------+--------------------+--------------------+\n",
      "| 2571|  34|       0.70229036|  Matrix, The (1999)|Action|Sci-Fi|Thr...|\n",
      "| 4993|  34|       0.68630916|Lord of the Rings...|   Adventure|Fantasy|\n",
      "| 7153|  34|        0.6822522|Lord of the Rings...|Action|Adventure|...|\n",
      "| 2959|  34|        0.6780812|   Fight Club (1999)|Action|Crime|Dram...|\n",
      "| 5952|  34|         0.675501|Lord of the Rings...|   Adventure|Fantasy|\n",
      "|58559|  34|        0.6347596|Dark Knight, The ...|Action|Crime|Dram...|\n",
      "|  318|  34|        0.6257799|Shawshank Redempt...|         Crime|Drama|\n",
      "|79132|  34|         0.620031|    Inception (2010)|Action|Crime|Dram...|\n",
      "| 4306|  34|        0.6183527|        Shrek (2001)|Adventure|Animati...|\n",
      "| 6539|  34|       0.60879594|Pirates of the Ca...|Action|Adventure|...|\n",
      "| 3578|  34|         0.604305|    Gladiator (2000)|Action|Adventure|...|\n",
      "| 4226|  34|        0.5981834|      Memento (2000)|    Mystery|Thriller|\n",
      "| 7361|  34|        0.5967436|Eternal Sunshine ...|Drama|Romance|Sci-Fi|\n",
      "| 6377|  34|        0.5934401| Finding Nemo (2003)|Adventure|Animati...|\n",
      "| 2329|  34|        0.5894093|American History ...|         Crime|Drama|\n",
      "|  356|  34|       0.58603513| Forrest Gump (1994)|Comedy|Drama|Roma...|\n",
      "| 6874|  34|        0.5797599|Kill Bill: Vol. 1...|Action|Crime|Thri...|\n",
      "| 2028|  34|        0.5790169|Saving Private Ry...|    Action|Drama|War|\n",
      "| 8961|  34|         0.577809|Incredibles, The ...|Action|Adventure|...|\n",
      "| 4995|  34|        0.5764368|Beautiful Mind, A...|       Drama|Romance|\n",
      "+-----+----+-----------------+--------------------+--------------------+\n",
      "only showing top 20 rows\n",
      "\n"
     ]
    }
   ],
   "source": [
    "all_users_recs[all_users_recs.user == user].show()"
   ]
  }
 ],
 "metadata": {
  "kernelspec": {
   "display_name": "Python 3",
   "language": "python",
   "name": "python3"
  },
  "language_info": {
   "codemirror_mode": {
    "name": "ipython",
    "version": 3
   },
   "file_extension": ".py",
   "mimetype": "text/x-python",
   "name": "python",
   "nbconvert_exporter": "python",
   "pygments_lexer": "ipython3",
   "version": "3.7.1"
  }
 },
 "nbformat": 4,
 "nbformat_minor": 2
}
