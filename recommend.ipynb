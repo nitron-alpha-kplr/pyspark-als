{
 "cells": [
  {
   "cell_type": "code",
   "execution_count": 1,
   "metadata": {},
   "outputs": [],
   "source": [
    "from pyspark.sql import SparkSession\n",
    "spark = SparkSession.builder.getOrCreate()\n",
    "spark.sparkContext.setCheckpointDir('checkpoint/') # https://stackoverflow.com/a/31484461"
   ]
  },
  {
   "cell_type": "code",
   "execution_count": null,
   "metadata": {},
   "outputs": [],
   "source": [
    "!wget http://files.grouplens.org/datasets/movielens/ml-latest-small.zip\n",
    "!unzip ml-latest-small.zip"
   ]
  },
  {
   "cell_type": "code",
   "execution_count": 2,
   "metadata": {},
   "outputs": [
    {
     "name": "stdout",
     "output_type": "stream",
     "text": [
      "userId,movieId,rating,timestamp\r",
      "\r\n",
      "1,1,4.0,964982703\r",
      "\r\n",
      "1,3,4.0,964981247\r",
      "\r\n",
      "1,6,4.0,964982224\r",
      "\r\n",
      "1,47,5.0,964983815\r",
      "\r\n",
      "1,50,5.0,964982931\r",
      "\r\n",
      "1,70,3.0,964982400\r",
      "\r\n",
      "1,101,5.0,964980868\r",
      "\r\n",
      "1,110,4.0,964982176\r",
      "\r\n",
      "1,151,5.0,964984041\r",
      "\r\n"
     ]
    }
   ],
   "source": [
    "!head -10 'ml-latest-small/ratings.csv'"
   ]
  },
  {
   "cell_type": "code",
   "execution_count": 3,
   "metadata": {},
   "outputs": [
    {
     "name": "stdout",
     "output_type": "stream",
     "text": [
      "movieId,title,genres\r",
      "\r\n",
      "1,Toy Story (1995),Adventure|Animation|Children|Comedy|Fantasy\r",
      "\r\n",
      "2,Jumanji (1995),Adventure|Children|Fantasy\r",
      "\r\n",
      "3,Grumpier Old Men (1995),Comedy|Romance\r",
      "\r\n",
      "4,Waiting to Exhale (1995),Comedy|Drama|Romance\r",
      "\r\n",
      "5,Father of the Bride Part II (1995),Comedy\r",
      "\r\n",
      "6,Heat (1995),Action|Crime|Thriller\r",
      "\r\n",
      "7,Sabrina (1995),Comedy|Romance\r",
      "\r\n",
      "8,Tom and Huck (1995),Adventure|Children\r",
      "\r\n",
      "9,Sudden Death (1995),Action\r",
      "\r\n"
     ]
    }
   ],
   "source": [
    "!head -10 'ml-latest-small/movies.csv'"
   ]
  },
  {
   "cell_type": "code",
   "execution_count": 4,
   "metadata": {},
   "outputs": [
    {
     "name": "stdout",
     "output_type": "stream",
     "text": [
      "+----+-----+------+\n",
      "|user|movie|rating|\n",
      "+----+-----+------+\n",
      "|   1|    1|   4.0|\n",
      "|   1|    3|   4.0|\n",
      "|   1|    6|   4.0|\n",
      "|   1|   47|   5.0|\n",
      "|   1|   50|   5.0|\n",
      "|   1|   70|   3.0|\n",
      "|   1|  101|   5.0|\n",
      "|   1|  110|   4.0|\n",
      "|   1|  151|   5.0|\n",
      "|   1|  157|   5.0|\n",
      "|   1|  163|   5.0|\n",
      "|   1|  216|   5.0|\n",
      "|   1|  223|   3.0|\n",
      "|   1|  231|   5.0|\n",
      "|   1|  235|   4.0|\n",
      "|   1|  260|   5.0|\n",
      "|   1|  296|   3.0|\n",
      "|   1|  316|   3.0|\n",
      "|   1|  333|   5.0|\n",
      "|   1|  349|   4.0|\n",
      "+----+-----+------+\n",
      "only showing top 20 rows\n",
      "\n",
      "+-----+--------------------+--------------------+\n",
      "|movie|               title|              genres|\n",
      "+-----+--------------------+--------------------+\n",
      "|    1|    Toy Story (1995)|Adventure|Animati...|\n",
      "|    2|      Jumanji (1995)|Adventure|Childre...|\n",
      "|    3|Grumpier Old Men ...|      Comedy|Romance|\n",
      "|    4|Waiting to Exhale...|Comedy|Drama|Romance|\n",
      "|    5|Father of the Bri...|              Comedy|\n",
      "|    6|         Heat (1995)|Action|Crime|Thri...|\n",
      "|    7|      Sabrina (1995)|      Comedy|Romance|\n",
      "|    8| Tom and Huck (1995)|  Adventure|Children|\n",
      "|    9| Sudden Death (1995)|              Action|\n",
      "|   10|    GoldenEye (1995)|Action|Adventure|...|\n",
      "|   11|American Presiden...|Comedy|Drama|Romance|\n",
      "|   12|Dracula: Dead and...|       Comedy|Horror|\n",
      "|   13|        Balto (1995)|Adventure|Animati...|\n",
      "|   14|        Nixon (1995)|               Drama|\n",
      "|   15|Cutthroat Island ...|Action|Adventure|...|\n",
      "|   16|       Casino (1995)|         Crime|Drama|\n",
      "|   17|Sense and Sensibi...|       Drama|Romance|\n",
      "|   18|   Four Rooms (1995)|              Comedy|\n",
      "|   19|Ace Ventura: When...|              Comedy|\n",
      "|   20|  Money Train (1995)|Action|Comedy|Cri...|\n",
      "+-----+--------------------+--------------------+\n",
      "only showing top 20 rows\n",
      "\n"
     ]
    }
   ],
   "source": [
    "from pyspark.ml.evaluation import RegressionEvaluator\n",
    "from pyspark.ml.recommendation import ALS\n",
    "from pyspark.ml.tuning import TrainValidationSplit, ParamGridBuilder\n",
    "from pyspark.sql.types import *\n",
    "import pyspark.sql.functions as F\n",
    "\n",
    "\n",
    "ratings_schema = StructType([\n",
    "    StructField('user'     , IntegerType()),\n",
    "    StructField('movie'    , IntegerType()),\n",
    "    StructField('rating'   , DoubleType() ),\n",
    "    StructField('timestamp', LongType()   ),\n",
    "])\n",
    "\n",
    "movies_schema = StructType([\n",
    "    StructField('movie' , IntegerType()),\n",
    "    StructField('title' , StringType ()),\n",
    "    StructField('genres', StringType ()),\n",
    "])\n",
    "\n",
    "\n",
    "ratings = spark.read.csv('ml-latest-small/ratings.csv', header=True, schema=ratings_schema).select(['user' , 'movie', 'rating'])\n",
    "movies  = spark.read.csv('ml-latest-small/movies.csv' , header=True, schema=movies_schema ).select(['movie', 'title', 'genres'])\n",
    "\n",
    "ratings.show()\n",
    "movies.show()"
   ]
  },
  {
   "cell_type": "code",
   "execution_count": 6,
   "metadata": {
    "scrolled": false
   },
   "outputs": [],
   "source": [
    "# params tuning, test, CV are in other file\n",
    "\n",
    "param_fixed = {\n",
    "    'userCol'          : 'user', \n",
    "    'itemCol'          : 'movie', \n",
    "    'ratingCol'        : 'rating', \n",
    "    'coldStartStrategy': 'drop', \n",
    "    'nonnegative'      : True,\n",
    "}\n",
    "\n",
    "best_params = {'rank': 7, 'maxIter': 20, 'regParam': 0.18}\n",
    "als = ALS(**best_params, **param_fixed).fit(ratings)"
   ]
  },
  {
   "cell_type": "code",
   "execution_count": 7,
   "metadata": {},
   "outputs": [],
   "source": [
    "def prettify_watched(user, movies_df, ratings_df):\n",
    "    ur = ratings_df[ratings_df.user == user]\n",
    "    return ur.join(movies_df, 'movie') \\\n",
    "        .select(\n",
    "            ur.user,\n",
    "            ur.rating,\n",
    "            ur.movie,\n",
    "            movies_df.title,\n",
    "            movies_df.genres,\n",
    "    ).orderBy('rating', ascending=False)\n",
    "\n",
    "\n",
    "\n",
    "def prettify_recommendation(r, movies_df):\n",
    "    r_explode = r.withColumn('recommendations', F.explode(r.recommendations))\n",
    "    r1 = r_explode.select(\n",
    "        r_explode.user,\n",
    "        r_explode.recommendations.movie.alias('movie'),\n",
    "        r_explode.recommendations.rating.alias('rating_prediction'),\n",
    "    )\n",
    "    return r1.join(movies_df, 'movie')\n",
    "    \n",
    "\n",
    "def recommend(model, user, movies_df, n_movies=10):\n",
    "    return prettify_recommendation(\n",
    "        model.recommendForUserSubset(\n",
    "            dataset = spark.createDataFrame(\n",
    "                data   = [[user]], \n",
    "                schema = ['user']\n",
    "            ), \n",
    "            numItems = n_movies\n",
    "        ),\n",
    "        movies_df\n",
    "    )"
   ]
  },
  {
   "cell_type": "code",
   "execution_count": 8,
   "metadata": {},
   "outputs": [
    {
     "name": "stdout",
     "output_type": "stream",
     "text": [
      "+----+------+-----+-------------------------+-------------------------+\n",
      "|user|rating|movie|                    title|                   genres|\n",
      "+----+------+-----+-------------------------+-------------------------+\n",
      "|  34|   5.0|   10|         GoldenEye (1995)|Action|Adventure|Thriller|\n",
      "|  34|   5.0| 5349|        Spider-Man (2002)|Action|Adventure|Sci-F...|\n",
      "|  34|   5.0| 3996|Crouching Tiger, Hidde...|     Action|Drama|Romance|\n",
      "|  34|   5.0| 2273|         Rush Hour (1998)|Action|Comedy|Crime|Th...|\n",
      "|  34|   5.0| 6874| Kill Bill: Vol. 1 (2003)|    Action|Crime|Thriller|\n",
      "|  34|   5.0| 8636|      Spider-Man 2 (2004)|Action|Adventure|Sci-F...|\n",
      "|  34|   5.0|27801|Ong-Bak: The Thai Warr...|          Action|Thriller|\n",
      "|  34|   5.0|45499|X-Men: The Last Stand ...|   Action|Sci-Fi|Thriller|\n",
      "|  34|   5.0| 6333|  X2: X-Men United (2003)|Action|Adventure|Sci-F...|\n",
      "|  34|   5.0| 6539|Pirates of the Caribbe...|Action|Adventure|Comed...|\n",
      "|  34|   5.0| 3793|             X-Men (2000)|  Action|Adventure|Sci-Fi|\n",
      "|  34|   5.0| 6618|Shaolin Soccer (Siu la...|            Action|Comedy|\n",
      "|  34|   5.0| 6711|Lost in Translation (2...|     Comedy|Drama|Romance|\n",
      "|  34|   5.0| 4446|Final Fantasy: The Spi...|Adventure|Animation|Fa...|\n",
      "|  34|   4.5| 4226|           Memento (2000)|         Mystery|Thriller|\n",
      "|  34|   4.5| 4367|Lara Croft: Tomb Raide...|         Action|Adventure|\n",
      "|  34|   4.5| 2443|  Playing by Heart (1998)|            Drama|Romance|\n",
      "|  34|   4.5| 6378|  Italian Job, The (2003)|             Action|Crime|\n",
      "|  34|   4.5|  377|             Speed (1994)|  Action|Romance|Thriller|\n",
      "|  34|   4.5| 6387|Once a Thief (Zong hen...|Action|Comedy|Crime|Th...|\n",
      "+----+------+-----+-------------------------+-------------------------+\n",
      "only showing top 20 rows\n",
      "\n",
      "+------+----+-----------------+-------------------------+--------------------+\n",
      "| movie|user|rating_prediction|                    title|              genres|\n",
      "+------+----+-----------------+-------------------------+--------------------+\n",
      "|141718|  34|        5.0418215|         Deathgasm (2015)|       Comedy|Horror|\n",
      "|  3379|  34|        4.7414412|      On the Beach (1959)|               Drama|\n",
      "| 67618|  34|        4.6382585|   Strictly Sexual (2008)|Comedy|Drama|Romance|\n",
      "| 33649|  34|        4.6316237|       Saving Face (2004)|Comedy|Drama|Romance|\n",
      "|131724|  34|        4.6310496|The Jinx: The Life and...|         Documentary|\n",
      "|132333|  34|        4.5994186|              Seve (2014)|   Documentary|Drama|\n",
      "|  5490|  34|        4.5994186|       The Big Bus (1976)|       Action|Comedy|\n",
      "| 25947|  34|         4.543492|Unfaithfully Yours (1948)|              Comedy|\n",
      "|  3567|  34|        4.5422373|        Bossa Nova (2000)|Comedy|Drama|Romance|\n",
      "| 92494|  34|        4.4431734|Dylan Moran: Monster (...|  Comedy|Documentary|\n",
      "|102217|  34|        4.4431734|Bill Hicks: Revelation...|              Comedy|\n",
      "|171495|  34|         4.419332|                   Cosmos|  (no genres listed)|\n",
      "| 93988|  34|         4.412232|     North & South (2004)|       Drama|Romance|\n",
      "| 74226|  34|        4.4071574|Dream of Light (a.k.a....|   Documentary|Drama|\n",
      "| 84273|  34|        4.4071574|Zeitgeist: Moving Forw...|         Documentary|\n",
      "|117531|  34|        4.4071574|         Watermark (2014)|         Documentary|\n",
      "|184245|  34|        4.4071574|  De platte jungle (1978)|         Documentary|\n",
      "| 86237|  34|        4.4071574|       Connections (1978)|         Documentary|\n",
      "|138966|  34|        4.4071574|Nasu: Summer in Andalu...|           Animation|\n",
      "|134796|  34|        4.4071574|       Bitter Lake (2015)|         Documentary|\n",
      "+------+----+-----------------+-------------------------+--------------------+\n",
      "only showing top 20 rows\n",
      "\n"
     ]
    }
   ],
   "source": [
    "user = 34\n",
    "prettify_watched(user=user, movies_df=movies, ratings_df=ratings).show(truncate=25)\n",
    "recommend(model=als, user=user, n_movies=30, movies_df=movies).show(truncate=25)"
   ]
  },
  {
   "cell_type": "code",
   "execution_count": null,
   "metadata": {},
   "outputs": [],
   "source": [
    "#recommendForAllUsers(10)"
   ]
  }
 ],
 "metadata": {
  "kernelspec": {
   "display_name": "Python 3",
   "language": "python",
   "name": "python3"
  },
  "language_info": {
   "codemirror_mode": {
    "name": "ipython",
    "version": 3
   },
   "file_extension": ".py",
   "mimetype": "text/x-python",
   "name": "python",
   "nbconvert_exporter": "python",
   "pygments_lexer": "ipython3",
   "version": "3.6.7"
  }
 },
 "nbformat": 4,
 "nbformat_minor": 2
}
