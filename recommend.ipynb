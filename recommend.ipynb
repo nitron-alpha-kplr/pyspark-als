{
 "cells": [
  {
   "cell_type": "code",
   "execution_count": 1,
   "metadata": {},
   "outputs": [],
   "source": [
    "import os\n",
    "os.environ['PYSPARK_PYTHON']        = '/usr/local/bin/python3'\n",
    "os.environ['PYSPARK_DRIVER_PYTHON'] = '/usr/local/bin/python3'\n",
    "os.environ['JAVA_HOME']             = '/Library/Java/JavaVirtualMachines/jdk1.8.0_181.jdk/Contents/Home' # Java 10 is problematic"
   ]
  },
  {
   "cell_type": "code",
   "execution_count": 2,
   "metadata": {},
   "outputs": [],
   "source": [
    "from pyspark.sql import SparkSession\n",
    "spark = SparkSession.builder.getOrCreate()\n",
    "spark.sparkContext.setCheckpointDir('checkpoint/') # https://stackoverflow.com/a/31484461"
   ]
  },
  {
   "cell_type": "code",
   "execution_count": 14,
   "metadata": {},
   "outputs": [],
   "source": [
    "from pyspark.ml.recommendation import ALS\n",
    "import pyspark.sql.functions as F\n",
    "\n",
    "from helpers import make\n",
    "# from helpers_my import make"
   ]
  },
  {
   "cell_type": "code",
   "execution_count": 6,
   "metadata": {},
   "outputs": [
    {
     "name": "stdout",
     "output_type": "stream",
     "text": [
      "+----+-----+------+\n",
      "|user|movie|rating|\n",
      "+----+-----+------+\n",
      "|   1|    1|   4.0|\n",
      "|   1|    3|   4.0|\n",
      "|   1|    6|   4.0|\n",
      "|   1|   47|   5.0|\n",
      "|   1|   50|   5.0|\n",
      "|   1|   70|   3.0|\n",
      "|   1|  101|   5.0|\n",
      "|   1|  110|   4.0|\n",
      "|   1|  151|   5.0|\n",
      "|   1|  157|   5.0|\n",
      "+----+-----+------+\n",
      "only showing top 10 rows\n",
      "\n",
      "+-----+--------------------+--------------------+\n",
      "|movie|               title|              genres|\n",
      "+-----+--------------------+--------------------+\n",
      "|    1|    Toy Story (1995)|Adventure|Animati...|\n",
      "|    2|      Jumanji (1995)|Adventure|Childre...|\n",
      "|    3|Grumpier Old Men ...|      Comedy|Romance|\n",
      "|    4|Waiting to Exhale...|Comedy|Drama|Romance|\n",
      "|    5|Father of the Bri...|              Comedy|\n",
      "|    6|         Heat (1995)|Action|Crime|Thri...|\n",
      "|    7|      Sabrina (1995)|      Comedy|Romance|\n",
      "|    8| Tom and Huck (1995)|  Adventure|Children|\n",
      "|    9| Sudden Death (1995)|              Action|\n",
      "|   10|    GoldenEye (1995)|Action|Adventure|...|\n",
      "+-----+--------------------+--------------------+\n",
      "only showing top 10 rows\n",
      "\n"
     ]
    }
   ],
   "source": [
    "ratings, movies = make('ratings', 'movies', spark=spark)\n",
    "ratings.show(10)\n",
    "movies.show(10)"
   ]
  },
  {
   "cell_type": "code",
   "execution_count": 9,
   "metadata": {},
   "outputs": [],
   "source": [
    "param_fixed = {\n",
    "    'userCol'          : 'user'  , \n",
    "    'itemCol'          : 'movie' ,\n",
    "    'ratingCol'        : 'rating',\n",
    "    'coldStartStrategy': 'drop'  ,\n",
    "    'nonnegative'      : True    ,\n",
    "    'implicitPrefs'    : True    ,\n",
    "    'maxIter'          : 20      ,\n",
    "}\n",
    "\n",
    "# some params: (see params tuning, CV in param-tuning.ipynb)\n",
    "best_params = {'rank': 7, 'regParam': 0.18, 'alpha': 1.0}\n",
    "als = ALS(**best_params, **param_fixed).fit(ratings)"
   ]
  },
  {
   "cell_type": "code",
   "execution_count": 74,
   "metadata": {},
   "outputs": [
    {
     "name": "stdout",
     "output_type": "stream",
     "text": [
      "+-----+----+------+-------------------------+-------------------------+\n",
      "|movie|user|rating|                    title|                   genres|\n",
      "+-----+----+------+-------------------------+-------------------------+\n",
      "|   10|  34|   5.0|         GoldenEye (1995)|Action|Adventure|Thriller|\n",
      "| 5349|  34|   5.0|        Spider-Man (2002)|Action|Adventure|Sci-F...|\n",
      "| 3996|  34|   5.0|Crouching Tiger, Hidde...|     Action|Drama|Romance|\n",
      "| 2273|  34|   5.0|         Rush Hour (1998)|Action|Comedy|Crime|Th...|\n",
      "| 6874|  34|   5.0| Kill Bill: Vol. 1 (2003)|    Action|Crime|Thriller|\n",
      "| 8636|  34|   5.0|      Spider-Man 2 (2004)|Action|Adventure|Sci-F...|\n",
      "|27801|  34|   5.0|Ong-Bak: The Thai Warr...|          Action|Thriller|\n",
      "|45499|  34|   5.0|X-Men: The Last Stand ...|   Action|Sci-Fi|Thriller|\n",
      "| 6333|  34|   5.0|  X2: X-Men United (2003)|Action|Adventure|Sci-F...|\n",
      "| 6539|  34|   5.0|Pirates of the Caribbe...|Action|Adventure|Comed...|\n",
      "| 3793|  34|   5.0|             X-Men (2000)|  Action|Adventure|Sci-Fi|\n",
      "| 6618|  34|   5.0|Shaolin Soccer (Siu la...|            Action|Comedy|\n",
      "| 6711|  34|   5.0|Lost in Translation (2...|     Comedy|Drama|Romance|\n",
      "| 4446|  34|   5.0|Final Fantasy: The Spi...|Adventure|Animation|Fa...|\n",
      "| 4226|  34|   4.5|           Memento (2000)|         Mystery|Thriller|\n",
      "| 4367|  34|   4.5|Lara Croft: Tomb Raide...|         Action|Adventure|\n",
      "| 2443|  34|   4.5|  Playing by Heart (1998)|            Drama|Romance|\n",
      "| 6378|  34|   4.5|  Italian Job, The (2003)|             Action|Crime|\n",
      "|  377|  34|   4.5|             Speed (1994)|  Action|Romance|Thriller|\n",
      "| 6387|  34|   4.5|Once a Thief (Zong hen...|Action|Comedy|Crime|Th...|\n",
      "+-----+----+------+-------------------------+-------------------------+\n",
      "only showing top 20 rows\n",
      "\n"
     ]
    }
   ],
   "source": [
    "user = 34\n",
    "\n",
    "user_history = ratings[ratings.user == user] \\\n",
    "    .join(movies, on='movie')                \\\n",
    "    .orderBy('rating', ascending=False)\n",
    "\n",
    "user_history.show(truncate=25)"
   ]
  },
  {
   "cell_type": "code",
   "execution_count": 68,
   "metadata": {},
   "outputs": [],
   "source": [
    "def recommend(als_model, user, user_history, n_movies=10):\n",
    "    \n",
    "    # # recommendForAllUsers API\n",
    "    # r = als.recommendForAllUsers(numItems=30)\n",
    "    # r = r[r.user == user]\n",
    "    \n",
    "    # recommendForUserSubset API (pyspark 2.3+)\n",
    "\n",
    "        dataset = spark.createDataFrame(\n",
    "            data   = [[user]], \n",
    "            schema = ['user']\n",
    "        ), \n",
    "        numItems = n_movies\n",
    "    )\n",
    "\n",
    "    r_exp = r.withColumn('recommendations', F.explode(r.recommendations))\n",
    "    return r_exp.select(\n",
    "        r_exp.user,\n",
    "        r_exp.recommendations.movie.alias('movie'),\n",
    "        r_exp.recommendations.rating.alias('rating_prediction'),\n",
    "    )\n",
    "\n",
    "    useless_recs = user_recs \\\n",
    "        .join(user_history, on='movie') \\\n",
    "        .select(user_recs.user, user_recs.movie, user_recs.rating_prediction)\n",
    "    return user_recs.subtract(useless_recs)"
   ]
  },
  {
   "cell_type": "code",
   "execution_count": 75,
   "metadata": {},
   "outputs": [],
   "source": [
    "user_recs = recommend(als_model=als, user=user, user_history=user_history, n_movies=30)"
   ]
  },
  {
   "cell_type": "code",
   "execution_count": 76,
   "metadata": {},
   "outputs": [
    {
     "name": "stdout",
     "output_type": "stream",
     "text": [
      "+-----+----+-----------------+-------------------------+-------------------------+\n",
      "|movie|user|rating_prediction|                    title|                   genres|\n",
      "+-----+----+-----------------+-------------------------+-------------------------+\n",
      "| 2571|  34|         0.715771|       Matrix, The (1999)|   Action|Sci-Fi|Thriller|\n",
      "| 2028|  34|       0.64082247|Saving Private Ryan (1...|         Action|Drama|War|\n",
      "| 1196|  34|       0.63664347|Star Wars: Episode V -...|  Action|Adventure|Sci-Fi|\n",
      "|  260|  34|        0.6326851|Star Wars: Episode IV ...|  Action|Adventure|Sci-Fi|\n",
      "| 1198|  34|        0.6230483|Raiders of the Lost Ar...|         Action|Adventure|\n",
      "| 2959|  34|       0.62268955|        Fight Club (1999)|Action|Crime|Drama|Thr...|\n",
      "| 4993|  34|       0.61654496|Lord of the Rings: The...|        Adventure|Fantasy|\n",
      "| 3578|  34|       0.61596286|         Gladiator (2000)|   Action|Adventure|Drama|\n",
      "| 1210|  34|        0.6075755|Star Wars: Episode VI ...|  Action|Adventure|Sci-Fi|\n",
      "| 5952|  34|       0.60018975|Lord of the Rings: The...|        Adventure|Fantasy|\n",
      "| 2762|  34|        0.5973217|  Sixth Sense, The (1999)|     Drama|Horror|Mystery|\n",
      "|  318|  34|       0.59154403|Shawshank Redemption, ...|              Crime|Drama|\n",
      "| 2858|  34|        0.5913726|   American Beauty (1999)|            Drama|Romance|\n",
      "|  858|  34|        0.5850092|    Godfather, The (1972)|              Crime|Drama|\n",
      "| 7153|  34|       0.58379513|Lord of the Rings: The...|Action|Adventure|Drama...|\n",
      "|  356|  34|       0.57538044|      Forrest Gump (1994)| Comedy|Drama|Romance|War|\n",
      "| 4306|  34|       0.56428343|             Shrek (2001)|Adventure|Animation|Ch...|\n",
      "| 1291|  34|        0.5581495|Indiana Jones and the ...|         Action|Adventure|\n",
      "|  593|  34|        0.5569718|Silence of the Lambs, ...|    Crime|Horror|Thriller|\n",
      "|  296|  34|        0.5566556|      Pulp Fiction (1994)|Comedy|Crime|Drama|Thr...|\n",
      "+-----+----+-----------------+-------------------------+-------------------------+\n",
      "only showing top 20 rows\n",
      "\n"
     ]
    }
   ],
   "source": [
    "user_recs.join(movies, on='movie').show(truncate=25)"
   ]
  }
 ],
 "metadata": {
  "kernelspec": {
   "display_name": "Python 3",
   "language": "python",
   "name": "python3"
  },
  "language_info": {
   "codemirror_mode": {
    "name": "ipython",
    "version": 3
   },
   "file_extension": ".py",
   "mimetype": "text/x-python",
   "name": "python",
   "nbconvert_exporter": "python",
   "pygments_lexer": "ipython3",
   "version": "3.7.1"
  }
 },
 "nbformat": 4,
 "nbformat_minor": 2
}
